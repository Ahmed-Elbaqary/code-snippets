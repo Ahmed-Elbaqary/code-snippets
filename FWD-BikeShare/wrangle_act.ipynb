{
 "cells": [
  {
   "cell_type": "markdown",
   "id": "immediate-composition",
   "metadata": {},
   "source": [
    "# Importing Libraries"
   ]
  },
  {
   "cell_type": "code",
   "execution_count": 1,
   "id": "provincial-sacramento",
   "metadata": {},
   "outputs": [],
   "source": [
    "import pandas as pd\n",
    "import numpy as np\n",
    "from matplotlib import pyplot as plt\n",
    "%matplotlib inline\n",
    "import json\n",
    "import requests"
   ]
  },
  {
   "cell_type": "markdown",
   "id": "stainless-extra",
   "metadata": {},
   "source": [
    "# Gathering Data:"
   ]
  },
  {
   "cell_type": "markdown",
   "id": "occupational-infection",
   "metadata": {},
   "source": [
    "## Enhanced Twitter Archive:"
   ]
  },
  {
   "cell_type": "code",
   "execution_count": 2,
   "id": "noted-wrist",
   "metadata": {},
   "outputs": [],
   "source": [
    "df_archive = pd.read_csv('twitter-archive-enhanced.csv')"
   ]
  },
  {
   "cell_type": "markdown",
   "id": "flexible-prevention",
   "metadata": {},
   "source": [
    "## Image Predictions File:"
   ]
  },
  {
   "cell_type": "code",
   "execution_count": 3,
   "id": "hungarian-animation",
   "metadata": {},
   "outputs": [],
   "source": [
    "url = 'https://d17h27t6h515a5.cloudfront.net/topher/2017/August/599fd2ad_image-predictions/image-predictions.tsv'\n",
    "response = requests.get(url)\n",
    "with open('image_predictions.tsv', mode = 'wb') as file:\n",
    "    file.write(response.content)"
   ]
  },
  {
   "cell_type": "code",
   "execution_count": 4,
   "id": "imposed-tribe",
   "metadata": {},
   "outputs": [],
   "source": [
    "df_predictions = pd.read_csv('image_predictions.tsv', sep = '\\t')"
   ]
  },
  {
   "cell_type": "markdown",
   "id": "angry-distance",
   "metadata": {},
   "source": [
    "## Twitter API:"
   ]
  },
  {
   "cell_type": "code",
   "execution_count": 5,
   "id": "multiple-andrew",
   "metadata": {},
   "outputs": [],
   "source": [
    "api_file = []\n",
    "\n",
    "with open('tweet_json.txt') as file:\n",
    "    for line in file:\n",
    "        api_file.append(json.loads(line))"
   ]
  },
  {
   "cell_type": "code",
   "execution_count": 6,
   "id": "gothic-beijing",
   "metadata": {},
   "outputs": [],
   "source": [
    "df_api = pd.DataFrame(api_file)"
   ]
  },
  {
   "cell_type": "code",
   "execution_count": 7,
   "id": "miniature-gambling",
   "metadata": {},
   "outputs": [],
   "source": [
    "df_api.to_csv('twitter_api_data.csv', index=False)"
   ]
  },
  {
   "cell_type": "markdown",
   "id": "coastal-lesson",
   "metadata": {},
   "source": [
    "# Assessing "
   ]
  },
  {
   "cell_type": "markdown",
   "id": "phantom-onion",
   "metadata": {},
   "source": [
    "## Enhanced Twitter Archive:"
   ]
  },
  {
   "cell_type": "code",
   "execution_count": 8,
   "id": "weird-maria",
   "metadata": {},
   "outputs": [
    {
     "data": {
      "text/html": [
       "<div>\n",
       "<style scoped>\n",
       "    .dataframe tbody tr th:only-of-type {\n",
       "        vertical-align: middle;\n",
       "    }\n",
       "\n",
       "    .dataframe tbody tr th {\n",
       "        vertical-align: top;\n",
       "    }\n",
       "\n",
       "    .dataframe thead th {\n",
       "        text-align: right;\n",
       "    }\n",
       "</style>\n",
       "<table border=\"1\" class=\"dataframe\">\n",
       "  <thead>\n",
       "    <tr style=\"text-align: right;\">\n",
       "      <th></th>\n",
       "      <th>tweet_id</th>\n",
       "      <th>in_reply_to_status_id</th>\n",
       "      <th>in_reply_to_user_id</th>\n",
       "      <th>timestamp</th>\n",
       "      <th>source</th>\n",
       "      <th>text</th>\n",
       "      <th>retweeted_status_id</th>\n",
       "      <th>retweeted_status_user_id</th>\n",
       "      <th>retweeted_status_timestamp</th>\n",
       "      <th>expanded_urls</th>\n",
       "      <th>rating_numerator</th>\n",
       "      <th>rating_denominator</th>\n",
       "      <th>name</th>\n",
       "      <th>doggo</th>\n",
       "      <th>floofer</th>\n",
       "      <th>pupper</th>\n",
       "      <th>puppo</th>\n",
       "    </tr>\n",
       "  </thead>\n",
       "  <tbody>\n",
       "    <tr>\n",
       "      <th>0</th>\n",
       "      <td>892420643555336193</td>\n",
       "      <td>NaN</td>\n",
       "      <td>NaN</td>\n",
       "      <td>2017-08-01 16:23:56 +0000</td>\n",
       "      <td>&lt;a href=\"http://twitter.com/download/iphone\" r...</td>\n",
       "      <td>This is Phineas. He's a mystical boy. Only eve...</td>\n",
       "      <td>NaN</td>\n",
       "      <td>NaN</td>\n",
       "      <td>NaN</td>\n",
       "      <td>https://twitter.com/dog_rates/status/892420643...</td>\n",
       "      <td>13</td>\n",
       "      <td>10</td>\n",
       "      <td>Phineas</td>\n",
       "      <td>None</td>\n",
       "      <td>None</td>\n",
       "      <td>None</td>\n",
       "      <td>None</td>\n",
       "    </tr>\n",
       "    <tr>\n",
       "      <th>1</th>\n",
       "      <td>892177421306343426</td>\n",
       "      <td>NaN</td>\n",
       "      <td>NaN</td>\n",
       "      <td>2017-08-01 00:17:27 +0000</td>\n",
       "      <td>&lt;a href=\"http://twitter.com/download/iphone\" r...</td>\n",
       "      <td>This is Tilly. She's just checking pup on you....</td>\n",
       "      <td>NaN</td>\n",
       "      <td>NaN</td>\n",
       "      <td>NaN</td>\n",
       "      <td>https://twitter.com/dog_rates/status/892177421...</td>\n",
       "      <td>13</td>\n",
       "      <td>10</td>\n",
       "      <td>Tilly</td>\n",
       "      <td>None</td>\n",
       "      <td>None</td>\n",
       "      <td>None</td>\n",
       "      <td>None</td>\n",
       "    </tr>\n",
       "    <tr>\n",
       "      <th>2</th>\n",
       "      <td>891815181378084864</td>\n",
       "      <td>NaN</td>\n",
       "      <td>NaN</td>\n",
       "      <td>2017-07-31 00:18:03 +0000</td>\n",
       "      <td>&lt;a href=\"http://twitter.com/download/iphone\" r...</td>\n",
       "      <td>This is Archie. He is a rare Norwegian Pouncin...</td>\n",
       "      <td>NaN</td>\n",
       "      <td>NaN</td>\n",
       "      <td>NaN</td>\n",
       "      <td>https://twitter.com/dog_rates/status/891815181...</td>\n",
       "      <td>12</td>\n",
       "      <td>10</td>\n",
       "      <td>Archie</td>\n",
       "      <td>None</td>\n",
       "      <td>None</td>\n",
       "      <td>None</td>\n",
       "      <td>None</td>\n",
       "    </tr>\n",
       "    <tr>\n",
       "      <th>3</th>\n",
       "      <td>891689557279858688</td>\n",
       "      <td>NaN</td>\n",
       "      <td>NaN</td>\n",
       "      <td>2017-07-30 15:58:51 +0000</td>\n",
       "      <td>&lt;a href=\"http://twitter.com/download/iphone\" r...</td>\n",
       "      <td>This is Darla. She commenced a snooze mid meal...</td>\n",
       "      <td>NaN</td>\n",
       "      <td>NaN</td>\n",
       "      <td>NaN</td>\n",
       "      <td>https://twitter.com/dog_rates/status/891689557...</td>\n",
       "      <td>13</td>\n",
       "      <td>10</td>\n",
       "      <td>Darla</td>\n",
       "      <td>None</td>\n",
       "      <td>None</td>\n",
       "      <td>None</td>\n",
       "      <td>None</td>\n",
       "    </tr>\n",
       "    <tr>\n",
       "      <th>4</th>\n",
       "      <td>891327558926688256</td>\n",
       "      <td>NaN</td>\n",
       "      <td>NaN</td>\n",
       "      <td>2017-07-29 16:00:24 +0000</td>\n",
       "      <td>&lt;a href=\"http://twitter.com/download/iphone\" r...</td>\n",
       "      <td>This is Franklin. He would like you to stop ca...</td>\n",
       "      <td>NaN</td>\n",
       "      <td>NaN</td>\n",
       "      <td>NaN</td>\n",
       "      <td>https://twitter.com/dog_rates/status/891327558...</td>\n",
       "      <td>12</td>\n",
       "      <td>10</td>\n",
       "      <td>Franklin</td>\n",
       "      <td>None</td>\n",
       "      <td>None</td>\n",
       "      <td>None</td>\n",
       "      <td>None</td>\n",
       "    </tr>\n",
       "  </tbody>\n",
       "</table>\n",
       "</div>"
      ],
      "text/plain": [
       "             tweet_id  in_reply_to_status_id  in_reply_to_user_id  \\\n",
       "0  892420643555336193                    NaN                  NaN   \n",
       "1  892177421306343426                    NaN                  NaN   \n",
       "2  891815181378084864                    NaN                  NaN   \n",
       "3  891689557279858688                    NaN                  NaN   \n",
       "4  891327558926688256                    NaN                  NaN   \n",
       "\n",
       "                   timestamp  \\\n",
       "0  2017-08-01 16:23:56 +0000   \n",
       "1  2017-08-01 00:17:27 +0000   \n",
       "2  2017-07-31 00:18:03 +0000   \n",
       "3  2017-07-30 15:58:51 +0000   \n",
       "4  2017-07-29 16:00:24 +0000   \n",
       "\n",
       "                                              source  \\\n",
       "0  <a href=\"http://twitter.com/download/iphone\" r...   \n",
       "1  <a href=\"http://twitter.com/download/iphone\" r...   \n",
       "2  <a href=\"http://twitter.com/download/iphone\" r...   \n",
       "3  <a href=\"http://twitter.com/download/iphone\" r...   \n",
       "4  <a href=\"http://twitter.com/download/iphone\" r...   \n",
       "\n",
       "                                                text  retweeted_status_id  \\\n",
       "0  This is Phineas. He's a mystical boy. Only eve...                  NaN   \n",
       "1  This is Tilly. She's just checking pup on you....                  NaN   \n",
       "2  This is Archie. He is a rare Norwegian Pouncin...                  NaN   \n",
       "3  This is Darla. She commenced a snooze mid meal...                  NaN   \n",
       "4  This is Franklin. He would like you to stop ca...                  NaN   \n",
       "\n",
       "   retweeted_status_user_id retweeted_status_timestamp  \\\n",
       "0                       NaN                        NaN   \n",
       "1                       NaN                        NaN   \n",
       "2                       NaN                        NaN   \n",
       "3                       NaN                        NaN   \n",
       "4                       NaN                        NaN   \n",
       "\n",
       "                                       expanded_urls  rating_numerator  \\\n",
       "0  https://twitter.com/dog_rates/status/892420643...                13   \n",
       "1  https://twitter.com/dog_rates/status/892177421...                13   \n",
       "2  https://twitter.com/dog_rates/status/891815181...                12   \n",
       "3  https://twitter.com/dog_rates/status/891689557...                13   \n",
       "4  https://twitter.com/dog_rates/status/891327558...                12   \n",
       "\n",
       "   rating_denominator      name doggo floofer pupper puppo  \n",
       "0                  10   Phineas  None    None   None  None  \n",
       "1                  10     Tilly  None    None   None  None  \n",
       "2                  10    Archie  None    None   None  None  \n",
       "3                  10     Darla  None    None   None  None  \n",
       "4                  10  Franklin  None    None   None  None  "
      ]
     },
     "execution_count": 8,
     "metadata": {},
     "output_type": "execute_result"
    }
   ],
   "source": [
    "df_archive.head()"
   ]
  },
  {
   "cell_type": "code",
   "execution_count": 9,
   "id": "hidden-bulletin",
   "metadata": {},
   "outputs": [
    {
     "data": {
      "text/html": [
       "<div>\n",
       "<style scoped>\n",
       "    .dataframe tbody tr th:only-of-type {\n",
       "        vertical-align: middle;\n",
       "    }\n",
       "\n",
       "    .dataframe tbody tr th {\n",
       "        vertical-align: top;\n",
       "    }\n",
       "\n",
       "    .dataframe thead th {\n",
       "        text-align: right;\n",
       "    }\n",
       "</style>\n",
       "<table border=\"1\" class=\"dataframe\">\n",
       "  <thead>\n",
       "    <tr style=\"text-align: right;\">\n",
       "      <th></th>\n",
       "      <th>tweet_id</th>\n",
       "      <th>in_reply_to_status_id</th>\n",
       "      <th>in_reply_to_user_id</th>\n",
       "      <th>timestamp</th>\n",
       "      <th>source</th>\n",
       "      <th>text</th>\n",
       "      <th>retweeted_status_id</th>\n",
       "      <th>retweeted_status_user_id</th>\n",
       "      <th>retweeted_status_timestamp</th>\n",
       "      <th>expanded_urls</th>\n",
       "      <th>rating_numerator</th>\n",
       "      <th>rating_denominator</th>\n",
       "      <th>name</th>\n",
       "      <th>doggo</th>\n",
       "      <th>floofer</th>\n",
       "      <th>pupper</th>\n",
       "      <th>puppo</th>\n",
       "    </tr>\n",
       "  </thead>\n",
       "  <tbody>\n",
       "    <tr>\n",
       "      <th>2351</th>\n",
       "      <td>666049248165822465</td>\n",
       "      <td>NaN</td>\n",
       "      <td>NaN</td>\n",
       "      <td>2015-11-16 00:24:50 +0000</td>\n",
       "      <td>&lt;a href=\"http://twitter.com/download/iphone\" r...</td>\n",
       "      <td>Here we have a 1949 1st generation vulpix. Enj...</td>\n",
       "      <td>NaN</td>\n",
       "      <td>NaN</td>\n",
       "      <td>NaN</td>\n",
       "      <td>https://twitter.com/dog_rates/status/666049248...</td>\n",
       "      <td>5</td>\n",
       "      <td>10</td>\n",
       "      <td>None</td>\n",
       "      <td>None</td>\n",
       "      <td>None</td>\n",
       "      <td>None</td>\n",
       "      <td>None</td>\n",
       "    </tr>\n",
       "    <tr>\n",
       "      <th>2352</th>\n",
       "      <td>666044226329800704</td>\n",
       "      <td>NaN</td>\n",
       "      <td>NaN</td>\n",
       "      <td>2015-11-16 00:04:52 +0000</td>\n",
       "      <td>&lt;a href=\"http://twitter.com/download/iphone\" r...</td>\n",
       "      <td>This is a purebred Piers Morgan. Loves to Netf...</td>\n",
       "      <td>NaN</td>\n",
       "      <td>NaN</td>\n",
       "      <td>NaN</td>\n",
       "      <td>https://twitter.com/dog_rates/status/666044226...</td>\n",
       "      <td>6</td>\n",
       "      <td>10</td>\n",
       "      <td>a</td>\n",
       "      <td>None</td>\n",
       "      <td>None</td>\n",
       "      <td>None</td>\n",
       "      <td>None</td>\n",
       "    </tr>\n",
       "    <tr>\n",
       "      <th>2353</th>\n",
       "      <td>666033412701032449</td>\n",
       "      <td>NaN</td>\n",
       "      <td>NaN</td>\n",
       "      <td>2015-11-15 23:21:54 +0000</td>\n",
       "      <td>&lt;a href=\"http://twitter.com/download/iphone\" r...</td>\n",
       "      <td>Here is a very happy pup. Big fan of well-main...</td>\n",
       "      <td>NaN</td>\n",
       "      <td>NaN</td>\n",
       "      <td>NaN</td>\n",
       "      <td>https://twitter.com/dog_rates/status/666033412...</td>\n",
       "      <td>9</td>\n",
       "      <td>10</td>\n",
       "      <td>a</td>\n",
       "      <td>None</td>\n",
       "      <td>None</td>\n",
       "      <td>None</td>\n",
       "      <td>None</td>\n",
       "    </tr>\n",
       "    <tr>\n",
       "      <th>2354</th>\n",
       "      <td>666029285002620928</td>\n",
       "      <td>NaN</td>\n",
       "      <td>NaN</td>\n",
       "      <td>2015-11-15 23:05:30 +0000</td>\n",
       "      <td>&lt;a href=\"http://twitter.com/download/iphone\" r...</td>\n",
       "      <td>This is a western brown Mitsubishi terrier. Up...</td>\n",
       "      <td>NaN</td>\n",
       "      <td>NaN</td>\n",
       "      <td>NaN</td>\n",
       "      <td>https://twitter.com/dog_rates/status/666029285...</td>\n",
       "      <td>7</td>\n",
       "      <td>10</td>\n",
       "      <td>a</td>\n",
       "      <td>None</td>\n",
       "      <td>None</td>\n",
       "      <td>None</td>\n",
       "      <td>None</td>\n",
       "    </tr>\n",
       "    <tr>\n",
       "      <th>2355</th>\n",
       "      <td>666020888022790149</td>\n",
       "      <td>NaN</td>\n",
       "      <td>NaN</td>\n",
       "      <td>2015-11-15 22:32:08 +0000</td>\n",
       "      <td>&lt;a href=\"http://twitter.com/download/iphone\" r...</td>\n",
       "      <td>Here we have a Japanese Irish Setter. Lost eye...</td>\n",
       "      <td>NaN</td>\n",
       "      <td>NaN</td>\n",
       "      <td>NaN</td>\n",
       "      <td>https://twitter.com/dog_rates/status/666020888...</td>\n",
       "      <td>8</td>\n",
       "      <td>10</td>\n",
       "      <td>None</td>\n",
       "      <td>None</td>\n",
       "      <td>None</td>\n",
       "      <td>None</td>\n",
       "      <td>None</td>\n",
       "    </tr>\n",
       "  </tbody>\n",
       "</table>\n",
       "</div>"
      ],
      "text/plain": [
       "                tweet_id  in_reply_to_status_id  in_reply_to_user_id  \\\n",
       "2351  666049248165822465                    NaN                  NaN   \n",
       "2352  666044226329800704                    NaN                  NaN   \n",
       "2353  666033412701032449                    NaN                  NaN   \n",
       "2354  666029285002620928                    NaN                  NaN   \n",
       "2355  666020888022790149                    NaN                  NaN   \n",
       "\n",
       "                      timestamp  \\\n",
       "2351  2015-11-16 00:24:50 +0000   \n",
       "2352  2015-11-16 00:04:52 +0000   \n",
       "2353  2015-11-15 23:21:54 +0000   \n",
       "2354  2015-11-15 23:05:30 +0000   \n",
       "2355  2015-11-15 22:32:08 +0000   \n",
       "\n",
       "                                                 source  \\\n",
       "2351  <a href=\"http://twitter.com/download/iphone\" r...   \n",
       "2352  <a href=\"http://twitter.com/download/iphone\" r...   \n",
       "2353  <a href=\"http://twitter.com/download/iphone\" r...   \n",
       "2354  <a href=\"http://twitter.com/download/iphone\" r...   \n",
       "2355  <a href=\"http://twitter.com/download/iphone\" r...   \n",
       "\n",
       "                                                   text  retweeted_status_id  \\\n",
       "2351  Here we have a 1949 1st generation vulpix. Enj...                  NaN   \n",
       "2352  This is a purebred Piers Morgan. Loves to Netf...                  NaN   \n",
       "2353  Here is a very happy pup. Big fan of well-main...                  NaN   \n",
       "2354  This is a western brown Mitsubishi terrier. Up...                  NaN   \n",
       "2355  Here we have a Japanese Irish Setter. Lost eye...                  NaN   \n",
       "\n",
       "      retweeted_status_user_id retweeted_status_timestamp  \\\n",
       "2351                       NaN                        NaN   \n",
       "2352                       NaN                        NaN   \n",
       "2353                       NaN                        NaN   \n",
       "2354                       NaN                        NaN   \n",
       "2355                       NaN                        NaN   \n",
       "\n",
       "                                          expanded_urls  rating_numerator  \\\n",
       "2351  https://twitter.com/dog_rates/status/666049248...                 5   \n",
       "2352  https://twitter.com/dog_rates/status/666044226...                 6   \n",
       "2353  https://twitter.com/dog_rates/status/666033412...                 9   \n",
       "2354  https://twitter.com/dog_rates/status/666029285...                 7   \n",
       "2355  https://twitter.com/dog_rates/status/666020888...                 8   \n",
       "\n",
       "      rating_denominator  name doggo floofer pupper puppo  \n",
       "2351                  10  None  None    None   None  None  \n",
       "2352                  10     a  None    None   None  None  \n",
       "2353                  10     a  None    None   None  None  \n",
       "2354                  10     a  None    None   None  None  \n",
       "2355                  10  None  None    None   None  None  "
      ]
     },
     "execution_count": 9,
     "metadata": {},
     "output_type": "execute_result"
    }
   ],
   "source": [
    "df_archive.tail()"
   ]
  },
  {
   "cell_type": "code",
   "execution_count": 10,
   "id": "greater-stereo",
   "metadata": {},
   "outputs": [
    {
     "data": {
      "text/html": [
       "<div>\n",
       "<style scoped>\n",
       "    .dataframe tbody tr th:only-of-type {\n",
       "        vertical-align: middle;\n",
       "    }\n",
       "\n",
       "    .dataframe tbody tr th {\n",
       "        vertical-align: top;\n",
       "    }\n",
       "\n",
       "    .dataframe thead th {\n",
       "        text-align: right;\n",
       "    }\n",
       "</style>\n",
       "<table border=\"1\" class=\"dataframe\">\n",
       "  <thead>\n",
       "    <tr style=\"text-align: right;\">\n",
       "      <th></th>\n",
       "      <th>tweet_id</th>\n",
       "      <th>in_reply_to_status_id</th>\n",
       "      <th>in_reply_to_user_id</th>\n",
       "      <th>timestamp</th>\n",
       "      <th>source</th>\n",
       "      <th>text</th>\n",
       "      <th>retweeted_status_id</th>\n",
       "      <th>retweeted_status_user_id</th>\n",
       "      <th>retweeted_status_timestamp</th>\n",
       "      <th>expanded_urls</th>\n",
       "      <th>rating_numerator</th>\n",
       "      <th>rating_denominator</th>\n",
       "      <th>name</th>\n",
       "      <th>doggo</th>\n",
       "      <th>floofer</th>\n",
       "      <th>pupper</th>\n",
       "      <th>puppo</th>\n",
       "    </tr>\n",
       "  </thead>\n",
       "  <tbody>\n",
       "    <tr>\n",
       "      <th>1398</th>\n",
       "      <td>699775878809702401</td>\n",
       "      <td>NaN</td>\n",
       "      <td>NaN</td>\n",
       "      <td>2016-02-17 02:02:25 +0000</td>\n",
       "      <td>&lt;a href=\"http://twitter.com/download/iphone\" r...</td>\n",
       "      <td>Meet Fillup. Spaghetti is his main weakness. A...</td>\n",
       "      <td>NaN</td>\n",
       "      <td>NaN</td>\n",
       "      <td>NaN</td>\n",
       "      <td>https://twitter.com/dog_rates/status/699775878...</td>\n",
       "      <td>11</td>\n",
       "      <td>10</td>\n",
       "      <td>Fillup</td>\n",
       "      <td>None</td>\n",
       "      <td>None</td>\n",
       "      <td>None</td>\n",
       "      <td>None</td>\n",
       "    </tr>\n",
       "    <tr>\n",
       "      <th>1991</th>\n",
       "      <td>672622327801233409</td>\n",
       "      <td>NaN</td>\n",
       "      <td>NaN</td>\n",
       "      <td>2015-12-04 03:43:54 +0000</td>\n",
       "      <td>&lt;a href=\"http://twitter.com/download/iphone\" r...</td>\n",
       "      <td>This lil pupper is sad because we haven't foun...</td>\n",
       "      <td>NaN</td>\n",
       "      <td>NaN</td>\n",
       "      <td>NaN</td>\n",
       "      <td>https://twitter.com/dog_rates/status/672622327...</td>\n",
       "      <td>12</td>\n",
       "      <td>10</td>\n",
       "      <td>None</td>\n",
       "      <td>None</td>\n",
       "      <td>None</td>\n",
       "      <td>pupper</td>\n",
       "      <td>None</td>\n",
       "    </tr>\n",
       "    <tr>\n",
       "      <th>176</th>\n",
       "      <td>857746408056729600</td>\n",
       "      <td>NaN</td>\n",
       "      <td>NaN</td>\n",
       "      <td>2017-04-28 00:00:54 +0000</td>\n",
       "      <td>&lt;a href=\"http://twitter.com/download/iphone\" r...</td>\n",
       "      <td>Meet Thor. He doesn't have finals because he's...</td>\n",
       "      <td>NaN</td>\n",
       "      <td>NaN</td>\n",
       "      <td>NaN</td>\n",
       "      <td>https://twitter.com/dog_rates/status/857746408...</td>\n",
       "      <td>13</td>\n",
       "      <td>10</td>\n",
       "      <td>Thor</td>\n",
       "      <td>None</td>\n",
       "      <td>None</td>\n",
       "      <td>None</td>\n",
       "      <td>None</td>\n",
       "    </tr>\n",
       "    <tr>\n",
       "      <th>514</th>\n",
       "      <td>811627233043480576</td>\n",
       "      <td>NaN</td>\n",
       "      <td>NaN</td>\n",
       "      <td>2016-12-21 17:39:46 +0000</td>\n",
       "      <td>&lt;a href=\"http://twitter.com/download/iphone\" r...</td>\n",
       "      <td>This is Augie. He's a savage. Doesn't give a h...</td>\n",
       "      <td>NaN</td>\n",
       "      <td>NaN</td>\n",
       "      <td>NaN</td>\n",
       "      <td>https://twitter.com/dog_rates/status/811627233...</td>\n",
       "      <td>10</td>\n",
       "      <td>10</td>\n",
       "      <td>Augie</td>\n",
       "      <td>None</td>\n",
       "      <td>None</td>\n",
       "      <td>None</td>\n",
       "      <td>None</td>\n",
       "    </tr>\n",
       "    <tr>\n",
       "      <th>1983</th>\n",
       "      <td>672964561327235073</td>\n",
       "      <td>NaN</td>\n",
       "      <td>NaN</td>\n",
       "      <td>2015-12-05 02:23:49 +0000</td>\n",
       "      <td>&lt;a href=\"http://twitter.com/download/iphone\" r...</td>\n",
       "      <td>This is Terry. He's a Toasty Western Sriracha....</td>\n",
       "      <td>NaN</td>\n",
       "      <td>NaN</td>\n",
       "      <td>NaN</td>\n",
       "      <td>https://twitter.com/dog_rates/status/672964561...</td>\n",
       "      <td>10</td>\n",
       "      <td>10</td>\n",
       "      <td>Terry</td>\n",
       "      <td>None</td>\n",
       "      <td>None</td>\n",
       "      <td>None</td>\n",
       "      <td>None</td>\n",
       "    </tr>\n",
       "    <tr>\n",
       "      <th>799</th>\n",
       "      <td>772826264096874500</td>\n",
       "      <td>NaN</td>\n",
       "      <td>NaN</td>\n",
       "      <td>2016-09-05 15:58:34 +0000</td>\n",
       "      <td>&lt;a href=\"http://twitter.com/download/iphone\" r...</td>\n",
       "      <td>Meet Roosevelt. He's preparing for takeoff. Ma...</td>\n",
       "      <td>NaN</td>\n",
       "      <td>NaN</td>\n",
       "      <td>NaN</td>\n",
       "      <td>https://twitter.com/dog_rates/status/772826264...</td>\n",
       "      <td>11</td>\n",
       "      <td>10</td>\n",
       "      <td>Roosevelt</td>\n",
       "      <td>None</td>\n",
       "      <td>None</td>\n",
       "      <td>None</td>\n",
       "      <td>None</td>\n",
       "    </tr>\n",
       "    <tr>\n",
       "      <th>748</th>\n",
       "      <td>779377524342161408</td>\n",
       "      <td>NaN</td>\n",
       "      <td>NaN</td>\n",
       "      <td>2016-09-23 17:50:56 +0000</td>\n",
       "      <td>&lt;a href=\"http://twitter.com/download/iphone\" r...</td>\n",
       "      <td>Have you ever seen such a smol pupper? Portabl...</td>\n",
       "      <td>NaN</td>\n",
       "      <td>NaN</td>\n",
       "      <td>NaN</td>\n",
       "      <td>https://twitter.com/dog_rates/status/779377524...</td>\n",
       "      <td>12</td>\n",
       "      <td>10</td>\n",
       "      <td>None</td>\n",
       "      <td>None</td>\n",
       "      <td>None</td>\n",
       "      <td>pupper</td>\n",
       "      <td>None</td>\n",
       "    </tr>\n",
       "    <tr>\n",
       "      <th>1541</th>\n",
       "      <td>689623661272240129</td>\n",
       "      <td>NaN</td>\n",
       "      <td>NaN</td>\n",
       "      <td>2016-01-20 01:41:08 +0000</td>\n",
       "      <td>&lt;a href=\"http://twitter.com/download/iphone\" r...</td>\n",
       "      <td>This is Lucy. She's terrified of the stuffed b...</td>\n",
       "      <td>NaN</td>\n",
       "      <td>NaN</td>\n",
       "      <td>NaN</td>\n",
       "      <td>https://twitter.com/dog_rates/status/689623661...</td>\n",
       "      <td>10</td>\n",
       "      <td>10</td>\n",
       "      <td>Lucy</td>\n",
       "      <td>None</td>\n",
       "      <td>None</td>\n",
       "      <td>pupper</td>\n",
       "      <td>None</td>\n",
       "    </tr>\n",
       "    <tr>\n",
       "      <th>26</th>\n",
       "      <td>886983233522544640</td>\n",
       "      <td>NaN</td>\n",
       "      <td>NaN</td>\n",
       "      <td>2017-07-17 16:17:36 +0000</td>\n",
       "      <td>&lt;a href=\"http://twitter.com/download/iphone\" r...</td>\n",
       "      <td>This is Maya. She's very shy. Rarely leaves he...</td>\n",
       "      <td>NaN</td>\n",
       "      <td>NaN</td>\n",
       "      <td>NaN</td>\n",
       "      <td>https://twitter.com/dog_rates/status/886983233...</td>\n",
       "      <td>13</td>\n",
       "      <td>10</td>\n",
       "      <td>Maya</td>\n",
       "      <td>None</td>\n",
       "      <td>None</td>\n",
       "      <td>None</td>\n",
       "      <td>None</td>\n",
       "    </tr>\n",
       "    <tr>\n",
       "      <th>16</th>\n",
       "      <td>888917238123831296</td>\n",
       "      <td>NaN</td>\n",
       "      <td>NaN</td>\n",
       "      <td>2017-07-23 00:22:39 +0000</td>\n",
       "      <td>&lt;a href=\"http://twitter.com/download/iphone\" r...</td>\n",
       "      <td>This is Jim. He found a fren. Taught him how t...</td>\n",
       "      <td>NaN</td>\n",
       "      <td>NaN</td>\n",
       "      <td>NaN</td>\n",
       "      <td>https://twitter.com/dog_rates/status/888917238...</td>\n",
       "      <td>12</td>\n",
       "      <td>10</td>\n",
       "      <td>Jim</td>\n",
       "      <td>None</td>\n",
       "      <td>None</td>\n",
       "      <td>None</td>\n",
       "      <td>None</td>\n",
       "    </tr>\n",
       "  </tbody>\n",
       "</table>\n",
       "</div>"
      ],
      "text/plain": [
       "                tweet_id  in_reply_to_status_id  in_reply_to_user_id  \\\n",
       "1398  699775878809702401                    NaN                  NaN   \n",
       "1991  672622327801233409                    NaN                  NaN   \n",
       "176   857746408056729600                    NaN                  NaN   \n",
       "514   811627233043480576                    NaN                  NaN   \n",
       "1983  672964561327235073                    NaN                  NaN   \n",
       "799   772826264096874500                    NaN                  NaN   \n",
       "748   779377524342161408                    NaN                  NaN   \n",
       "1541  689623661272240129                    NaN                  NaN   \n",
       "26    886983233522544640                    NaN                  NaN   \n",
       "16    888917238123831296                    NaN                  NaN   \n",
       "\n",
       "                      timestamp  \\\n",
       "1398  2016-02-17 02:02:25 +0000   \n",
       "1991  2015-12-04 03:43:54 +0000   \n",
       "176   2017-04-28 00:00:54 +0000   \n",
       "514   2016-12-21 17:39:46 +0000   \n",
       "1983  2015-12-05 02:23:49 +0000   \n",
       "799   2016-09-05 15:58:34 +0000   \n",
       "748   2016-09-23 17:50:56 +0000   \n",
       "1541  2016-01-20 01:41:08 +0000   \n",
       "26    2017-07-17 16:17:36 +0000   \n",
       "16    2017-07-23 00:22:39 +0000   \n",
       "\n",
       "                                                 source  \\\n",
       "1398  <a href=\"http://twitter.com/download/iphone\" r...   \n",
       "1991  <a href=\"http://twitter.com/download/iphone\" r...   \n",
       "176   <a href=\"http://twitter.com/download/iphone\" r...   \n",
       "514   <a href=\"http://twitter.com/download/iphone\" r...   \n",
       "1983  <a href=\"http://twitter.com/download/iphone\" r...   \n",
       "799   <a href=\"http://twitter.com/download/iphone\" r...   \n",
       "748   <a href=\"http://twitter.com/download/iphone\" r...   \n",
       "1541  <a href=\"http://twitter.com/download/iphone\" r...   \n",
       "26    <a href=\"http://twitter.com/download/iphone\" r...   \n",
       "16    <a href=\"http://twitter.com/download/iphone\" r...   \n",
       "\n",
       "                                                   text  retweeted_status_id  \\\n",
       "1398  Meet Fillup. Spaghetti is his main weakness. A...                  NaN   \n",
       "1991  This lil pupper is sad because we haven't foun...                  NaN   \n",
       "176   Meet Thor. He doesn't have finals because he's...                  NaN   \n",
       "514   This is Augie. He's a savage. Doesn't give a h...                  NaN   \n",
       "1983  This is Terry. He's a Toasty Western Sriracha....                  NaN   \n",
       "799   Meet Roosevelt. He's preparing for takeoff. Ma...                  NaN   \n",
       "748   Have you ever seen such a smol pupper? Portabl...                  NaN   \n",
       "1541  This is Lucy. She's terrified of the stuffed b...                  NaN   \n",
       "26    This is Maya. She's very shy. Rarely leaves he...                  NaN   \n",
       "16    This is Jim. He found a fren. Taught him how t...                  NaN   \n",
       "\n",
       "      retweeted_status_user_id retweeted_status_timestamp  \\\n",
       "1398                       NaN                        NaN   \n",
       "1991                       NaN                        NaN   \n",
       "176                        NaN                        NaN   \n",
       "514                        NaN                        NaN   \n",
       "1983                       NaN                        NaN   \n",
       "799                        NaN                        NaN   \n",
       "748                        NaN                        NaN   \n",
       "1541                       NaN                        NaN   \n",
       "26                         NaN                        NaN   \n",
       "16                         NaN                        NaN   \n",
       "\n",
       "                                          expanded_urls  rating_numerator  \\\n",
       "1398  https://twitter.com/dog_rates/status/699775878...                11   \n",
       "1991  https://twitter.com/dog_rates/status/672622327...                12   \n",
       "176   https://twitter.com/dog_rates/status/857746408...                13   \n",
       "514   https://twitter.com/dog_rates/status/811627233...                10   \n",
       "1983  https://twitter.com/dog_rates/status/672964561...                10   \n",
       "799   https://twitter.com/dog_rates/status/772826264...                11   \n",
       "748   https://twitter.com/dog_rates/status/779377524...                12   \n",
       "1541  https://twitter.com/dog_rates/status/689623661...                10   \n",
       "26    https://twitter.com/dog_rates/status/886983233...                13   \n",
       "16    https://twitter.com/dog_rates/status/888917238...                12   \n",
       "\n",
       "      rating_denominator       name doggo floofer  pupper puppo  \n",
       "1398                  10     Fillup  None    None    None  None  \n",
       "1991                  10       None  None    None  pupper  None  \n",
       "176                   10       Thor  None    None    None  None  \n",
       "514                   10      Augie  None    None    None  None  \n",
       "1983                  10      Terry  None    None    None  None  \n",
       "799                   10  Roosevelt  None    None    None  None  \n",
       "748                   10       None  None    None  pupper  None  \n",
       "1541                  10       Lucy  None    None  pupper  None  \n",
       "26                    10       Maya  None    None    None  None  \n",
       "16                    10        Jim  None    None    None  None  "
      ]
     },
     "execution_count": 10,
     "metadata": {},
     "output_type": "execute_result"
    }
   ],
   "source": [
    "df_archive.sample(10)"
   ]
  },
  {
   "cell_type": "code",
   "execution_count": 11,
   "id": "extended-assault",
   "metadata": {},
   "outputs": [
    {
     "name": "stdout",
     "output_type": "stream",
     "text": [
      "<class 'pandas.core.frame.DataFrame'>\n",
      "RangeIndex: 2356 entries, 0 to 2355\n",
      "Data columns (total 17 columns):\n",
      " #   Column                      Non-Null Count  Dtype  \n",
      "---  ------                      --------------  -----  \n",
      " 0   tweet_id                    2356 non-null   int64  \n",
      " 1   in_reply_to_status_id       78 non-null     float64\n",
      " 2   in_reply_to_user_id         78 non-null     float64\n",
      " 3   timestamp                   2356 non-null   object \n",
      " 4   source                      2356 non-null   object \n",
      " 5   text                        2356 non-null   object \n",
      " 6   retweeted_status_id         181 non-null    float64\n",
      " 7   retweeted_status_user_id    181 non-null    float64\n",
      " 8   retweeted_status_timestamp  181 non-null    object \n",
      " 9   expanded_urls               2297 non-null   object \n",
      " 10  rating_numerator            2356 non-null   int64  \n",
      " 11  rating_denominator          2356 non-null   int64  \n",
      " 12  name                        2356 non-null   object \n",
      " 13  doggo                       2356 non-null   object \n",
      " 14  floofer                     2356 non-null   object \n",
      " 15  pupper                      2356 non-null   object \n",
      " 16  puppo                       2356 non-null   object \n",
      "dtypes: float64(4), int64(3), object(10)\n",
      "memory usage: 313.0+ KB\n"
     ]
    }
   ],
   "source": [
    "df_archive.info()"
   ]
  },
  {
   "cell_type": "code",
   "execution_count": 12,
   "id": "killing-manchester",
   "metadata": {},
   "outputs": [
    {
     "data": {
      "text/plain": [
       "<a href=\"http://twitter.com/download/iphone\" rel=\"nofollow\">Twitter for iPhone</a>     2221\n",
       "<a href=\"http://vine.co\" rel=\"nofollow\">Vine - Make a Scene</a>                          91\n",
       "<a href=\"http://twitter.com\" rel=\"nofollow\">Twitter Web Client</a>                       33\n",
       "<a href=\"https://about.twitter.com/products/tweetdeck\" rel=\"nofollow\">TweetDeck</a>      11\n",
       "Name: source, dtype: int64"
      ]
     },
     "execution_count": 12,
     "metadata": {},
     "output_type": "execute_result"
    }
   ],
   "source": [
    "df_archive.source.value_counts()"
   ]
  },
  {
   "cell_type": "code",
   "execution_count": 13,
   "id": "earlier-johns",
   "metadata": {},
   "outputs": [
    {
     "data": {
      "text/html": [
       "<div>\n",
       "<style scoped>\n",
       "    .dataframe tbody tr th:only-of-type {\n",
       "        vertical-align: middle;\n",
       "    }\n",
       "\n",
       "    .dataframe tbody tr th {\n",
       "        vertical-align: top;\n",
       "    }\n",
       "\n",
       "    .dataframe thead th {\n",
       "        text-align: right;\n",
       "    }\n",
       "</style>\n",
       "<table border=\"1\" class=\"dataframe\">\n",
       "  <thead>\n",
       "    <tr style=\"text-align: right;\">\n",
       "      <th></th>\n",
       "      <th>rating_numerator</th>\n",
       "      <th>rating_denominator</th>\n",
       "    </tr>\n",
       "  </thead>\n",
       "  <tbody>\n",
       "    <tr>\n",
       "      <th>count</th>\n",
       "      <td>2356.000000</td>\n",
       "      <td>2356.000000</td>\n",
       "    </tr>\n",
       "    <tr>\n",
       "      <th>mean</th>\n",
       "      <td>13.126486</td>\n",
       "      <td>10.455433</td>\n",
       "    </tr>\n",
       "    <tr>\n",
       "      <th>std</th>\n",
       "      <td>45.876648</td>\n",
       "      <td>6.745237</td>\n",
       "    </tr>\n",
       "    <tr>\n",
       "      <th>min</th>\n",
       "      <td>0.000000</td>\n",
       "      <td>0.000000</td>\n",
       "    </tr>\n",
       "    <tr>\n",
       "      <th>25%</th>\n",
       "      <td>10.000000</td>\n",
       "      <td>10.000000</td>\n",
       "    </tr>\n",
       "    <tr>\n",
       "      <th>50%</th>\n",
       "      <td>11.000000</td>\n",
       "      <td>10.000000</td>\n",
       "    </tr>\n",
       "    <tr>\n",
       "      <th>75%</th>\n",
       "      <td>12.000000</td>\n",
       "      <td>10.000000</td>\n",
       "    </tr>\n",
       "    <tr>\n",
       "      <th>max</th>\n",
       "      <td>1776.000000</td>\n",
       "      <td>170.000000</td>\n",
       "    </tr>\n",
       "  </tbody>\n",
       "</table>\n",
       "</div>"
      ],
      "text/plain": [
       "       rating_numerator  rating_denominator\n",
       "count       2356.000000         2356.000000\n",
       "mean          13.126486           10.455433\n",
       "std           45.876648            6.745237\n",
       "min            0.000000            0.000000\n",
       "25%           10.000000           10.000000\n",
       "50%           11.000000           10.000000\n",
       "75%           12.000000           10.000000\n",
       "max         1776.000000          170.000000"
      ]
     },
     "execution_count": 13,
     "metadata": {},
     "output_type": "execute_result"
    }
   ],
   "source": [
    "df_archive[['rating_numerator', 'rating_denominator']].describe()"
   ]
  },
  {
   "cell_type": "code",
   "execution_count": 14,
   "id": "following-copying",
   "metadata": {},
   "outputs": [
    {
     "data": {
      "text/plain": [
       "901"
      ]
     },
     "execution_count": 14,
     "metadata": {},
     "output_type": "execute_result"
    }
   ],
   "source": [
    "df_archive[df_archive.rating_numerator <= 10].count()[0]"
   ]
  },
  {
   "cell_type": "code",
   "execution_count": 15,
   "id": "conceptual-hearts",
   "metadata": {},
   "outputs": [
    {
     "data": {
      "text/plain": [
       "440"
      ]
     },
     "execution_count": 15,
     "metadata": {},
     "output_type": "execute_result"
    }
   ],
   "source": [
    "df_archive[df_archive.rating_numerator < 10].count()[0]"
   ]
  },
  {
   "cell_type": "code",
   "execution_count": 16,
   "id": "breathing-petite",
   "metadata": {},
   "outputs": [
    {
     "data": {
      "text/plain": [
       "24"
      ]
     },
     "execution_count": 16,
     "metadata": {},
     "output_type": "execute_result"
    }
   ],
   "source": [
    "df_archive[df_archive.rating_numerator > 20].count()[0]"
   ]
  },
  {
   "cell_type": "code",
   "execution_count": 17,
   "id": "yellow-deputy",
   "metadata": {},
   "outputs": [
    {
     "data": {
      "text/plain": [
       "188      420\n",
       "189      666\n",
       "290      182\n",
       "313      960\n",
       "340       75\n",
       "433       84\n",
       "516       24\n",
       "695       75\n",
       "763       27\n",
       "902      165\n",
       "979     1776\n",
       "1120     204\n",
       "1202      50\n",
       "1228      99\n",
       "1254      80\n",
       "1274      45\n",
       "1351      60\n",
       "1433      44\n",
       "1634     143\n",
       "1635     121\n",
       "1712      26\n",
       "1779     144\n",
       "1843      88\n",
       "2074     420\n",
       "Name: rating_numerator, dtype: int64"
      ]
     },
     "execution_count": 17,
     "metadata": {},
     "output_type": "execute_result"
    }
   ],
   "source": [
    "df_archive[df_archive.rating_numerator > 20]['rating_numerator']"
   ]
  },
  {
   "cell_type": "code",
   "execution_count": 18,
   "id": "hairy-estimate",
   "metadata": {},
   "outputs": [
    {
     "data": {
      "text/plain": [
       "23"
      ]
     },
     "execution_count": 18,
     "metadata": {},
     "output_type": "execute_result"
    }
   ],
   "source": [
    "df_archive[df_archive.rating_denominator != 10].count()[0]"
   ]
  },
  {
   "cell_type": "code",
   "execution_count": 19,
   "id": "suited-chosen",
   "metadata": {},
   "outputs": [
    {
     "data": {
      "text/plain": [
       "313       0\n",
       "342      15\n",
       "433      70\n",
       "516       7\n",
       "784      11\n",
       "902     150\n",
       "1068     11\n",
       "1120    170\n",
       "1165     20\n",
       "1202     50\n",
       "1228     90\n",
       "1254     80\n",
       "1274     50\n",
       "1351     50\n",
       "1433     40\n",
       "1598     20\n",
       "1634    130\n",
       "1635    110\n",
       "1662     11\n",
       "1663     16\n",
       "1779    120\n",
       "1843     80\n",
       "2335      2\n",
       "Name: rating_denominator, dtype: int64"
      ]
     },
     "execution_count": 19,
     "metadata": {},
     "output_type": "execute_result"
    }
   ],
   "source": [
    "df_archive[df_archive.rating_denominator != 10].rating_denominator"
   ]
  },
  {
   "cell_type": "code",
   "execution_count": 20,
   "id": "ambient-eclipse",
   "metadata": {},
   "outputs": [
    {
     "data": {
      "text/plain": [
       "None       745\n",
       "a           55\n",
       "Charlie     12\n",
       "Lucy        11\n",
       "Cooper      11\n",
       "          ... \n",
       "Bradley      1\n",
       "Kara         1\n",
       "Andru        1\n",
       "Kaia         1\n",
       "Jim          1\n",
       "Name: name, Length: 957, dtype: int64"
      ]
     },
     "execution_count": 20,
     "metadata": {},
     "output_type": "execute_result"
    }
   ],
   "source": [
    "df_archive.name.value_counts()"
   ]
  },
  {
   "cell_type": "markdown",
   "id": "verbal-pharmacy",
   "metadata": {},
   "source": [
    "## Image Predictions File:"
   ]
  },
  {
   "cell_type": "code",
   "execution_count": 21,
   "id": "premier-constant",
   "metadata": {},
   "outputs": [
    {
     "data": {
      "text/html": [
       "<div>\n",
       "<style scoped>\n",
       "    .dataframe tbody tr th:only-of-type {\n",
       "        vertical-align: middle;\n",
       "    }\n",
       "\n",
       "    .dataframe tbody tr th {\n",
       "        vertical-align: top;\n",
       "    }\n",
       "\n",
       "    .dataframe thead th {\n",
       "        text-align: right;\n",
       "    }\n",
       "</style>\n",
       "<table border=\"1\" class=\"dataframe\">\n",
       "  <thead>\n",
       "    <tr style=\"text-align: right;\">\n",
       "      <th></th>\n",
       "      <th>tweet_id</th>\n",
       "      <th>jpg_url</th>\n",
       "      <th>img_num</th>\n",
       "      <th>p1</th>\n",
       "      <th>p1_conf</th>\n",
       "      <th>p1_dog</th>\n",
       "      <th>p2</th>\n",
       "      <th>p2_conf</th>\n",
       "      <th>p2_dog</th>\n",
       "      <th>p3</th>\n",
       "      <th>p3_conf</th>\n",
       "      <th>p3_dog</th>\n",
       "    </tr>\n",
       "  </thead>\n",
       "  <tbody>\n",
       "    <tr>\n",
       "      <th>0</th>\n",
       "      <td>666020888022790149</td>\n",
       "      <td>https://pbs.twimg.com/media/CT4udn0WwAA0aMy.jpg</td>\n",
       "      <td>1</td>\n",
       "      <td>Welsh_springer_spaniel</td>\n",
       "      <td>0.465074</td>\n",
       "      <td>True</td>\n",
       "      <td>collie</td>\n",
       "      <td>0.156665</td>\n",
       "      <td>True</td>\n",
       "      <td>Shetland_sheepdog</td>\n",
       "      <td>0.061428</td>\n",
       "      <td>True</td>\n",
       "    </tr>\n",
       "    <tr>\n",
       "      <th>1</th>\n",
       "      <td>666029285002620928</td>\n",
       "      <td>https://pbs.twimg.com/media/CT42GRgUYAA5iDo.jpg</td>\n",
       "      <td>1</td>\n",
       "      <td>redbone</td>\n",
       "      <td>0.506826</td>\n",
       "      <td>True</td>\n",
       "      <td>miniature_pinscher</td>\n",
       "      <td>0.074192</td>\n",
       "      <td>True</td>\n",
       "      <td>Rhodesian_ridgeback</td>\n",
       "      <td>0.072010</td>\n",
       "      <td>True</td>\n",
       "    </tr>\n",
       "    <tr>\n",
       "      <th>2</th>\n",
       "      <td>666033412701032449</td>\n",
       "      <td>https://pbs.twimg.com/media/CT4521TWwAEvMyu.jpg</td>\n",
       "      <td>1</td>\n",
       "      <td>German_shepherd</td>\n",
       "      <td>0.596461</td>\n",
       "      <td>True</td>\n",
       "      <td>malinois</td>\n",
       "      <td>0.138584</td>\n",
       "      <td>True</td>\n",
       "      <td>bloodhound</td>\n",
       "      <td>0.116197</td>\n",
       "      <td>True</td>\n",
       "    </tr>\n",
       "    <tr>\n",
       "      <th>3</th>\n",
       "      <td>666044226329800704</td>\n",
       "      <td>https://pbs.twimg.com/media/CT5Dr8HUEAA-lEu.jpg</td>\n",
       "      <td>1</td>\n",
       "      <td>Rhodesian_ridgeback</td>\n",
       "      <td>0.408143</td>\n",
       "      <td>True</td>\n",
       "      <td>redbone</td>\n",
       "      <td>0.360687</td>\n",
       "      <td>True</td>\n",
       "      <td>miniature_pinscher</td>\n",
       "      <td>0.222752</td>\n",
       "      <td>True</td>\n",
       "    </tr>\n",
       "    <tr>\n",
       "      <th>4</th>\n",
       "      <td>666049248165822465</td>\n",
       "      <td>https://pbs.twimg.com/media/CT5IQmsXIAAKY4A.jpg</td>\n",
       "      <td>1</td>\n",
       "      <td>miniature_pinscher</td>\n",
       "      <td>0.560311</td>\n",
       "      <td>True</td>\n",
       "      <td>Rottweiler</td>\n",
       "      <td>0.243682</td>\n",
       "      <td>True</td>\n",
       "      <td>Doberman</td>\n",
       "      <td>0.154629</td>\n",
       "      <td>True</td>\n",
       "    </tr>\n",
       "    <tr>\n",
       "      <th>5</th>\n",
       "      <td>666050758794694657</td>\n",
       "      <td>https://pbs.twimg.com/media/CT5Jof1WUAEuVxN.jpg</td>\n",
       "      <td>1</td>\n",
       "      <td>Bernese_mountain_dog</td>\n",
       "      <td>0.651137</td>\n",
       "      <td>True</td>\n",
       "      <td>English_springer</td>\n",
       "      <td>0.263788</td>\n",
       "      <td>True</td>\n",
       "      <td>Greater_Swiss_Mountain_dog</td>\n",
       "      <td>0.016199</td>\n",
       "      <td>True</td>\n",
       "    </tr>\n",
       "    <tr>\n",
       "      <th>6</th>\n",
       "      <td>666051853826850816</td>\n",
       "      <td>https://pbs.twimg.com/media/CT5KoJ1WoAAJash.jpg</td>\n",
       "      <td>1</td>\n",
       "      <td>box_turtle</td>\n",
       "      <td>0.933012</td>\n",
       "      <td>False</td>\n",
       "      <td>mud_turtle</td>\n",
       "      <td>0.045885</td>\n",
       "      <td>False</td>\n",
       "      <td>terrapin</td>\n",
       "      <td>0.017885</td>\n",
       "      <td>False</td>\n",
       "    </tr>\n",
       "    <tr>\n",
       "      <th>7</th>\n",
       "      <td>666055525042405380</td>\n",
       "      <td>https://pbs.twimg.com/media/CT5N9tpXIAAifs1.jpg</td>\n",
       "      <td>1</td>\n",
       "      <td>chow</td>\n",
       "      <td>0.692517</td>\n",
       "      <td>True</td>\n",
       "      <td>Tibetan_mastiff</td>\n",
       "      <td>0.058279</td>\n",
       "      <td>True</td>\n",
       "      <td>fur_coat</td>\n",
       "      <td>0.054449</td>\n",
       "      <td>False</td>\n",
       "    </tr>\n",
       "    <tr>\n",
       "      <th>8</th>\n",
       "      <td>666057090499244032</td>\n",
       "      <td>https://pbs.twimg.com/media/CT5PY90WoAAQGLo.jpg</td>\n",
       "      <td>1</td>\n",
       "      <td>shopping_cart</td>\n",
       "      <td>0.962465</td>\n",
       "      <td>False</td>\n",
       "      <td>shopping_basket</td>\n",
       "      <td>0.014594</td>\n",
       "      <td>False</td>\n",
       "      <td>golden_retriever</td>\n",
       "      <td>0.007959</td>\n",
       "      <td>True</td>\n",
       "    </tr>\n",
       "    <tr>\n",
       "      <th>9</th>\n",
       "      <td>666058600524156928</td>\n",
       "      <td>https://pbs.twimg.com/media/CT5Qw94XAAA_2dP.jpg</td>\n",
       "      <td>1</td>\n",
       "      <td>miniature_poodle</td>\n",
       "      <td>0.201493</td>\n",
       "      <td>True</td>\n",
       "      <td>komondor</td>\n",
       "      <td>0.192305</td>\n",
       "      <td>True</td>\n",
       "      <td>soft-coated_wheaten_terrier</td>\n",
       "      <td>0.082086</td>\n",
       "      <td>True</td>\n",
       "    </tr>\n",
       "  </tbody>\n",
       "</table>\n",
       "</div>"
      ],
      "text/plain": [
       "             tweet_id                                          jpg_url  \\\n",
       "0  666020888022790149  https://pbs.twimg.com/media/CT4udn0WwAA0aMy.jpg   \n",
       "1  666029285002620928  https://pbs.twimg.com/media/CT42GRgUYAA5iDo.jpg   \n",
       "2  666033412701032449  https://pbs.twimg.com/media/CT4521TWwAEvMyu.jpg   \n",
       "3  666044226329800704  https://pbs.twimg.com/media/CT5Dr8HUEAA-lEu.jpg   \n",
       "4  666049248165822465  https://pbs.twimg.com/media/CT5IQmsXIAAKY4A.jpg   \n",
       "5  666050758794694657  https://pbs.twimg.com/media/CT5Jof1WUAEuVxN.jpg   \n",
       "6  666051853826850816  https://pbs.twimg.com/media/CT5KoJ1WoAAJash.jpg   \n",
       "7  666055525042405380  https://pbs.twimg.com/media/CT5N9tpXIAAifs1.jpg   \n",
       "8  666057090499244032  https://pbs.twimg.com/media/CT5PY90WoAAQGLo.jpg   \n",
       "9  666058600524156928  https://pbs.twimg.com/media/CT5Qw94XAAA_2dP.jpg   \n",
       "\n",
       "   img_num                      p1   p1_conf  p1_dog                  p2  \\\n",
       "0        1  Welsh_springer_spaniel  0.465074    True              collie   \n",
       "1        1                 redbone  0.506826    True  miniature_pinscher   \n",
       "2        1         German_shepherd  0.596461    True            malinois   \n",
       "3        1     Rhodesian_ridgeback  0.408143    True             redbone   \n",
       "4        1      miniature_pinscher  0.560311    True          Rottweiler   \n",
       "5        1    Bernese_mountain_dog  0.651137    True    English_springer   \n",
       "6        1              box_turtle  0.933012   False          mud_turtle   \n",
       "7        1                    chow  0.692517    True     Tibetan_mastiff   \n",
       "8        1           shopping_cart  0.962465   False     shopping_basket   \n",
       "9        1        miniature_poodle  0.201493    True            komondor   \n",
       "\n",
       "    p2_conf  p2_dog                           p3   p3_conf  p3_dog  \n",
       "0  0.156665    True            Shetland_sheepdog  0.061428    True  \n",
       "1  0.074192    True          Rhodesian_ridgeback  0.072010    True  \n",
       "2  0.138584    True                   bloodhound  0.116197    True  \n",
       "3  0.360687    True           miniature_pinscher  0.222752    True  \n",
       "4  0.243682    True                     Doberman  0.154629    True  \n",
       "5  0.263788    True   Greater_Swiss_Mountain_dog  0.016199    True  \n",
       "6  0.045885   False                     terrapin  0.017885   False  \n",
       "7  0.058279    True                     fur_coat  0.054449   False  \n",
       "8  0.014594   False             golden_retriever  0.007959    True  \n",
       "9  0.192305    True  soft-coated_wheaten_terrier  0.082086    True  "
      ]
     },
     "execution_count": 21,
     "metadata": {},
     "output_type": "execute_result"
    }
   ],
   "source": [
    "df_predictions.head(10)"
   ]
  },
  {
   "cell_type": "code",
   "execution_count": 22,
   "id": "portuguese-folks",
   "metadata": {},
   "outputs": [
    {
     "data": {
      "text/html": [
       "<div>\n",
       "<style scoped>\n",
       "    .dataframe tbody tr th:only-of-type {\n",
       "        vertical-align: middle;\n",
       "    }\n",
       "\n",
       "    .dataframe tbody tr th {\n",
       "        vertical-align: top;\n",
       "    }\n",
       "\n",
       "    .dataframe thead th {\n",
       "        text-align: right;\n",
       "    }\n",
       "</style>\n",
       "<table border=\"1\" class=\"dataframe\">\n",
       "  <thead>\n",
       "    <tr style=\"text-align: right;\">\n",
       "      <th></th>\n",
       "      <th>tweet_id</th>\n",
       "      <th>jpg_url</th>\n",
       "      <th>img_num</th>\n",
       "      <th>p1</th>\n",
       "      <th>p1_conf</th>\n",
       "      <th>p1_dog</th>\n",
       "      <th>p2</th>\n",
       "      <th>p2_conf</th>\n",
       "      <th>p2_dog</th>\n",
       "      <th>p3</th>\n",
       "      <th>p3_conf</th>\n",
       "      <th>p3_dog</th>\n",
       "    </tr>\n",
       "  </thead>\n",
       "  <tbody>\n",
       "    <tr>\n",
       "      <th>2065</th>\n",
       "      <td>890240255349198849</td>\n",
       "      <td>https://pbs.twimg.com/media/DFrEyVuW0AAO3t9.jpg</td>\n",
       "      <td>1</td>\n",
       "      <td>Pembroke</td>\n",
       "      <td>0.511319</td>\n",
       "      <td>True</td>\n",
       "      <td>Cardigan</td>\n",
       "      <td>0.451038</td>\n",
       "      <td>True</td>\n",
       "      <td>Chihuahua</td>\n",
       "      <td>0.029248</td>\n",
       "      <td>True</td>\n",
       "    </tr>\n",
       "    <tr>\n",
       "      <th>2066</th>\n",
       "      <td>890609185150312448</td>\n",
       "      <td>https://pbs.twimg.com/media/DFwUU__XcAEpyXI.jpg</td>\n",
       "      <td>1</td>\n",
       "      <td>Irish_terrier</td>\n",
       "      <td>0.487574</td>\n",
       "      <td>True</td>\n",
       "      <td>Irish_setter</td>\n",
       "      <td>0.193054</td>\n",
       "      <td>True</td>\n",
       "      <td>Chesapeake_Bay_retriever</td>\n",
       "      <td>0.118184</td>\n",
       "      <td>True</td>\n",
       "    </tr>\n",
       "    <tr>\n",
       "      <th>2067</th>\n",
       "      <td>890729181411237888</td>\n",
       "      <td>https://pbs.twimg.com/media/DFyBahAVwAAhUTd.jpg</td>\n",
       "      <td>2</td>\n",
       "      <td>Pomeranian</td>\n",
       "      <td>0.566142</td>\n",
       "      <td>True</td>\n",
       "      <td>Eskimo_dog</td>\n",
       "      <td>0.178406</td>\n",
       "      <td>True</td>\n",
       "      <td>Pembroke</td>\n",
       "      <td>0.076507</td>\n",
       "      <td>True</td>\n",
       "    </tr>\n",
       "    <tr>\n",
       "      <th>2068</th>\n",
       "      <td>890971913173991426</td>\n",
       "      <td>https://pbs.twimg.com/media/DF1eOmZXUAALUcq.jpg</td>\n",
       "      <td>1</td>\n",
       "      <td>Appenzeller</td>\n",
       "      <td>0.341703</td>\n",
       "      <td>True</td>\n",
       "      <td>Border_collie</td>\n",
       "      <td>0.199287</td>\n",
       "      <td>True</td>\n",
       "      <td>ice_lolly</td>\n",
       "      <td>0.193548</td>\n",
       "      <td>False</td>\n",
       "    </tr>\n",
       "    <tr>\n",
       "      <th>2069</th>\n",
       "      <td>891087950875897856</td>\n",
       "      <td>https://pbs.twimg.com/media/DF3HwyEWsAABqE6.jpg</td>\n",
       "      <td>1</td>\n",
       "      <td>Chesapeake_Bay_retriever</td>\n",
       "      <td>0.425595</td>\n",
       "      <td>True</td>\n",
       "      <td>Irish_terrier</td>\n",
       "      <td>0.116317</td>\n",
       "      <td>True</td>\n",
       "      <td>Indian_elephant</td>\n",
       "      <td>0.076902</td>\n",
       "      <td>False</td>\n",
       "    </tr>\n",
       "    <tr>\n",
       "      <th>2070</th>\n",
       "      <td>891327558926688256</td>\n",
       "      <td>https://pbs.twimg.com/media/DF6hr6BUMAAzZgT.jpg</td>\n",
       "      <td>2</td>\n",
       "      <td>basset</td>\n",
       "      <td>0.555712</td>\n",
       "      <td>True</td>\n",
       "      <td>English_springer</td>\n",
       "      <td>0.225770</td>\n",
       "      <td>True</td>\n",
       "      <td>German_short-haired_pointer</td>\n",
       "      <td>0.175219</td>\n",
       "      <td>True</td>\n",
       "    </tr>\n",
       "    <tr>\n",
       "      <th>2071</th>\n",
       "      <td>891689557279858688</td>\n",
       "      <td>https://pbs.twimg.com/media/DF_q7IAWsAEuuN8.jpg</td>\n",
       "      <td>1</td>\n",
       "      <td>paper_towel</td>\n",
       "      <td>0.170278</td>\n",
       "      <td>False</td>\n",
       "      <td>Labrador_retriever</td>\n",
       "      <td>0.168086</td>\n",
       "      <td>True</td>\n",
       "      <td>spatula</td>\n",
       "      <td>0.040836</td>\n",
       "      <td>False</td>\n",
       "    </tr>\n",
       "    <tr>\n",
       "      <th>2072</th>\n",
       "      <td>891815181378084864</td>\n",
       "      <td>https://pbs.twimg.com/media/DGBdLU1WsAANxJ9.jpg</td>\n",
       "      <td>1</td>\n",
       "      <td>Chihuahua</td>\n",
       "      <td>0.716012</td>\n",
       "      <td>True</td>\n",
       "      <td>malamute</td>\n",
       "      <td>0.078253</td>\n",
       "      <td>True</td>\n",
       "      <td>kelpie</td>\n",
       "      <td>0.031379</td>\n",
       "      <td>True</td>\n",
       "    </tr>\n",
       "    <tr>\n",
       "      <th>2073</th>\n",
       "      <td>892177421306343426</td>\n",
       "      <td>https://pbs.twimg.com/media/DGGmoV4XsAAUL6n.jpg</td>\n",
       "      <td>1</td>\n",
       "      <td>Chihuahua</td>\n",
       "      <td>0.323581</td>\n",
       "      <td>True</td>\n",
       "      <td>Pekinese</td>\n",
       "      <td>0.090647</td>\n",
       "      <td>True</td>\n",
       "      <td>papillon</td>\n",
       "      <td>0.068957</td>\n",
       "      <td>True</td>\n",
       "    </tr>\n",
       "    <tr>\n",
       "      <th>2074</th>\n",
       "      <td>892420643555336193</td>\n",
       "      <td>https://pbs.twimg.com/media/DGKD1-bXoAAIAUK.jpg</td>\n",
       "      <td>1</td>\n",
       "      <td>orange</td>\n",
       "      <td>0.097049</td>\n",
       "      <td>False</td>\n",
       "      <td>bagel</td>\n",
       "      <td>0.085851</td>\n",
       "      <td>False</td>\n",
       "      <td>banana</td>\n",
       "      <td>0.076110</td>\n",
       "      <td>False</td>\n",
       "    </tr>\n",
       "  </tbody>\n",
       "</table>\n",
       "</div>"
      ],
      "text/plain": [
       "                tweet_id                                          jpg_url  \\\n",
       "2065  890240255349198849  https://pbs.twimg.com/media/DFrEyVuW0AAO3t9.jpg   \n",
       "2066  890609185150312448  https://pbs.twimg.com/media/DFwUU__XcAEpyXI.jpg   \n",
       "2067  890729181411237888  https://pbs.twimg.com/media/DFyBahAVwAAhUTd.jpg   \n",
       "2068  890971913173991426  https://pbs.twimg.com/media/DF1eOmZXUAALUcq.jpg   \n",
       "2069  891087950875897856  https://pbs.twimg.com/media/DF3HwyEWsAABqE6.jpg   \n",
       "2070  891327558926688256  https://pbs.twimg.com/media/DF6hr6BUMAAzZgT.jpg   \n",
       "2071  891689557279858688  https://pbs.twimg.com/media/DF_q7IAWsAEuuN8.jpg   \n",
       "2072  891815181378084864  https://pbs.twimg.com/media/DGBdLU1WsAANxJ9.jpg   \n",
       "2073  892177421306343426  https://pbs.twimg.com/media/DGGmoV4XsAAUL6n.jpg   \n",
       "2074  892420643555336193  https://pbs.twimg.com/media/DGKD1-bXoAAIAUK.jpg   \n",
       "\n",
       "      img_num                        p1   p1_conf  p1_dog                  p2  \\\n",
       "2065        1                  Pembroke  0.511319    True            Cardigan   \n",
       "2066        1             Irish_terrier  0.487574    True        Irish_setter   \n",
       "2067        2                Pomeranian  0.566142    True          Eskimo_dog   \n",
       "2068        1               Appenzeller  0.341703    True       Border_collie   \n",
       "2069        1  Chesapeake_Bay_retriever  0.425595    True       Irish_terrier   \n",
       "2070        2                    basset  0.555712    True    English_springer   \n",
       "2071        1               paper_towel  0.170278   False  Labrador_retriever   \n",
       "2072        1                 Chihuahua  0.716012    True            malamute   \n",
       "2073        1                 Chihuahua  0.323581    True            Pekinese   \n",
       "2074        1                    orange  0.097049   False               bagel   \n",
       "\n",
       "       p2_conf  p2_dog                           p3   p3_conf  p3_dog  \n",
       "2065  0.451038    True                    Chihuahua  0.029248    True  \n",
       "2066  0.193054    True     Chesapeake_Bay_retriever  0.118184    True  \n",
       "2067  0.178406    True                     Pembroke  0.076507    True  \n",
       "2068  0.199287    True                    ice_lolly  0.193548   False  \n",
       "2069  0.116317    True              Indian_elephant  0.076902   False  \n",
       "2070  0.225770    True  German_short-haired_pointer  0.175219    True  \n",
       "2071  0.168086    True                      spatula  0.040836   False  \n",
       "2072  0.078253    True                       kelpie  0.031379    True  \n",
       "2073  0.090647    True                     papillon  0.068957    True  \n",
       "2074  0.085851   False                       banana  0.076110   False  "
      ]
     },
     "execution_count": 22,
     "metadata": {},
     "output_type": "execute_result"
    }
   ],
   "source": [
    "df_predictions.tail(10)"
   ]
  },
  {
   "cell_type": "code",
   "execution_count": 23,
   "id": "younger-bermuda",
   "metadata": {},
   "outputs": [
    {
     "data": {
      "text/html": [
       "<div>\n",
       "<style scoped>\n",
       "    .dataframe tbody tr th:only-of-type {\n",
       "        vertical-align: middle;\n",
       "    }\n",
       "\n",
       "    .dataframe tbody tr th {\n",
       "        vertical-align: top;\n",
       "    }\n",
       "\n",
       "    .dataframe thead th {\n",
       "        text-align: right;\n",
       "    }\n",
       "</style>\n",
       "<table border=\"1\" class=\"dataframe\">\n",
       "  <thead>\n",
       "    <tr style=\"text-align: right;\">\n",
       "      <th></th>\n",
       "      <th>tweet_id</th>\n",
       "      <th>jpg_url</th>\n",
       "      <th>img_num</th>\n",
       "      <th>p1</th>\n",
       "      <th>p1_conf</th>\n",
       "      <th>p1_dog</th>\n",
       "      <th>p2</th>\n",
       "      <th>p2_conf</th>\n",
       "      <th>p2_dog</th>\n",
       "      <th>p3</th>\n",
       "      <th>p3_conf</th>\n",
       "      <th>p3_dog</th>\n",
       "    </tr>\n",
       "  </thead>\n",
       "  <tbody>\n",
       "    <tr>\n",
       "      <th>17</th>\n",
       "      <td>666104133288665088</td>\n",
       "      <td>https://pbs.twimg.com/media/CT56LSZWoAAlJj2.jpg</td>\n",
       "      <td>1</td>\n",
       "      <td>hen</td>\n",
       "      <td>0.965932</td>\n",
       "      <td>False</td>\n",
       "      <td>cock</td>\n",
       "      <td>0.033919</td>\n",
       "      <td>False</td>\n",
       "      <td>partridge</td>\n",
       "      <td>0.000052</td>\n",
       "      <td>False</td>\n",
       "    </tr>\n",
       "    <tr>\n",
       "      <th>1588</th>\n",
       "      <td>798340744599797760</td>\n",
       "      <td>https://pbs.twimg.com/media/CrXhIqBW8AA6Bse.jpg</td>\n",
       "      <td>1</td>\n",
       "      <td>papillon</td>\n",
       "      <td>0.533180</td>\n",
       "      <td>True</td>\n",
       "      <td>collie</td>\n",
       "      <td>0.192031</td>\n",
       "      <td>True</td>\n",
       "      <td>Border_collie</td>\n",
       "      <td>0.121626</td>\n",
       "      <td>True</td>\n",
       "    </tr>\n",
       "    <tr>\n",
       "      <th>1869</th>\n",
       "      <td>844580511645339650</td>\n",
       "      <td>https://pbs.twimg.com/media/C7iNfq1W0AAcbsR.jpg</td>\n",
       "      <td>1</td>\n",
       "      <td>washer</td>\n",
       "      <td>0.903064</td>\n",
       "      <td>False</td>\n",
       "      <td>dishwasher</td>\n",
       "      <td>0.032489</td>\n",
       "      <td>False</td>\n",
       "      <td>printer</td>\n",
       "      <td>0.016456</td>\n",
       "      <td>False</td>\n",
       "    </tr>\n",
       "    <tr>\n",
       "      <th>824</th>\n",
       "      <td>693231807727280129</td>\n",
       "      <td>https://pbs.twimg.com/media/CZ7aplIUsAAq-8s.jpg</td>\n",
       "      <td>1</td>\n",
       "      <td>vizsla</td>\n",
       "      <td>0.876413</td>\n",
       "      <td>True</td>\n",
       "      <td>Chesapeake_Bay_retriever</td>\n",
       "      <td>0.078400</td>\n",
       "      <td>True</td>\n",
       "      <td>Rhodesian_ridgeback</td>\n",
       "      <td>0.032194</td>\n",
       "      <td>True</td>\n",
       "    </tr>\n",
       "    <tr>\n",
       "      <th>1855</th>\n",
       "      <td>841314665196081154</td>\n",
       "      <td>https://pbs.twimg.com/ext_tw_video_thumb/84131...</td>\n",
       "      <td>1</td>\n",
       "      <td>Afghan_hound</td>\n",
       "      <td>0.903712</td>\n",
       "      <td>True</td>\n",
       "      <td>Saluki</td>\n",
       "      <td>0.035215</td>\n",
       "      <td>True</td>\n",
       "      <td>bloodhound</td>\n",
       "      <td>0.026565</td>\n",
       "      <td>True</td>\n",
       "    </tr>\n",
       "    <tr>\n",
       "      <th>968</th>\n",
       "      <td>706346369204748288</td>\n",
       "      <td>https://pbs.twimg.com/media/Cc1yRE2WoAAgxFQ.jpg</td>\n",
       "      <td>1</td>\n",
       "      <td>Tibetan_mastiff</td>\n",
       "      <td>0.956462</td>\n",
       "      <td>True</td>\n",
       "      <td>Rottweiler</td>\n",
       "      <td>0.025381</td>\n",
       "      <td>True</td>\n",
       "      <td>Appenzeller</td>\n",
       "      <td>0.008679</td>\n",
       "      <td>True</td>\n",
       "    </tr>\n",
       "    <tr>\n",
       "      <th>120</th>\n",
       "      <td>668190681446379520</td>\n",
       "      <td>https://pbs.twimg.com/media/CUXj4SgXAAETlu6.jpg</td>\n",
       "      <td>1</td>\n",
       "      <td>Blenheim_spaniel</td>\n",
       "      <td>0.958402</td>\n",
       "      <td>True</td>\n",
       "      <td>cocker_spaniel</td>\n",
       "      <td>0.026764</td>\n",
       "      <td>True</td>\n",
       "      <td>Welsh_springer_spaniel</td>\n",
       "      <td>0.007790</td>\n",
       "      <td>True</td>\n",
       "    </tr>\n",
       "    <tr>\n",
       "      <th>990</th>\n",
       "      <td>707995814724026368</td>\n",
       "      <td>https://pbs.twimg.com/media/CdNOb17WwAA5z4A.jpg</td>\n",
       "      <td>1</td>\n",
       "      <td>agama</td>\n",
       "      <td>0.172087</td>\n",
       "      <td>False</td>\n",
       "      <td>Gila_monster</td>\n",
       "      <td>0.126978</td>\n",
       "      <td>False</td>\n",
       "      <td>lumbermill</td>\n",
       "      <td>0.050400</td>\n",
       "      <td>False</td>\n",
       "    </tr>\n",
       "    <tr>\n",
       "      <th>464</th>\n",
       "      <td>675003128568291329</td>\n",
       "      <td>https://pbs.twimg.com/media/CV4XwYiWoAAHQIF.jpg</td>\n",
       "      <td>1</td>\n",
       "      <td>Pembroke</td>\n",
       "      <td>0.655279</td>\n",
       "      <td>True</td>\n",
       "      <td>Pomeranian</td>\n",
       "      <td>0.104164</td>\n",
       "      <td>True</td>\n",
       "      <td>Cardigan</td>\n",
       "      <td>0.052818</td>\n",
       "      <td>True</td>\n",
       "    </tr>\n",
       "    <tr>\n",
       "      <th>1933</th>\n",
       "      <td>859607811541651456</td>\n",
       "      <td>https://pbs.twimg.com/media/C-3wvtxXcAUTuBE.jpg</td>\n",
       "      <td>1</td>\n",
       "      <td>golden_retriever</td>\n",
       "      <td>0.895529</td>\n",
       "      <td>True</td>\n",
       "      <td>Irish_setter</td>\n",
       "      <td>0.024099</td>\n",
       "      <td>True</td>\n",
       "      <td>Labrador_retriever</td>\n",
       "      <td>0.019285</td>\n",
       "      <td>True</td>\n",
       "    </tr>\n",
       "  </tbody>\n",
       "</table>\n",
       "</div>"
      ],
      "text/plain": [
       "                tweet_id                                            jpg_url  \\\n",
       "17    666104133288665088    https://pbs.twimg.com/media/CT56LSZWoAAlJj2.jpg   \n",
       "1588  798340744599797760    https://pbs.twimg.com/media/CrXhIqBW8AA6Bse.jpg   \n",
       "1869  844580511645339650    https://pbs.twimg.com/media/C7iNfq1W0AAcbsR.jpg   \n",
       "824   693231807727280129    https://pbs.twimg.com/media/CZ7aplIUsAAq-8s.jpg   \n",
       "1855  841314665196081154  https://pbs.twimg.com/ext_tw_video_thumb/84131...   \n",
       "968   706346369204748288    https://pbs.twimg.com/media/Cc1yRE2WoAAgxFQ.jpg   \n",
       "120   668190681446379520    https://pbs.twimg.com/media/CUXj4SgXAAETlu6.jpg   \n",
       "990   707995814724026368    https://pbs.twimg.com/media/CdNOb17WwAA5z4A.jpg   \n",
       "464   675003128568291329    https://pbs.twimg.com/media/CV4XwYiWoAAHQIF.jpg   \n",
       "1933  859607811541651456    https://pbs.twimg.com/media/C-3wvtxXcAUTuBE.jpg   \n",
       "\n",
       "      img_num                p1   p1_conf  p1_dog                        p2  \\\n",
       "17          1               hen  0.965932   False                      cock   \n",
       "1588        1          papillon  0.533180    True                    collie   \n",
       "1869        1            washer  0.903064   False                dishwasher   \n",
       "824         1            vizsla  0.876413    True  Chesapeake_Bay_retriever   \n",
       "1855        1      Afghan_hound  0.903712    True                    Saluki   \n",
       "968         1   Tibetan_mastiff  0.956462    True                Rottweiler   \n",
       "120         1  Blenheim_spaniel  0.958402    True            cocker_spaniel   \n",
       "990         1             agama  0.172087   False              Gila_monster   \n",
       "464         1          Pembroke  0.655279    True                Pomeranian   \n",
       "1933        1  golden_retriever  0.895529    True              Irish_setter   \n",
       "\n",
       "       p2_conf  p2_dog                      p3   p3_conf  p3_dog  \n",
       "17    0.033919   False               partridge  0.000052   False  \n",
       "1588  0.192031    True           Border_collie  0.121626    True  \n",
       "1869  0.032489   False                 printer  0.016456   False  \n",
       "824   0.078400    True     Rhodesian_ridgeback  0.032194    True  \n",
       "1855  0.035215    True              bloodhound  0.026565    True  \n",
       "968   0.025381    True             Appenzeller  0.008679    True  \n",
       "120   0.026764    True  Welsh_springer_spaniel  0.007790    True  \n",
       "990   0.126978   False              lumbermill  0.050400   False  \n",
       "464   0.104164    True                Cardigan  0.052818    True  \n",
       "1933  0.024099    True      Labrador_retriever  0.019285    True  "
      ]
     },
     "execution_count": 23,
     "metadata": {},
     "output_type": "execute_result"
    }
   ],
   "source": [
    "df_predictions.sample(10)"
   ]
  },
  {
   "cell_type": "code",
   "execution_count": 24,
   "id": "thick-design",
   "metadata": {},
   "outputs": [
    {
     "name": "stdout",
     "output_type": "stream",
     "text": [
      "<class 'pandas.core.frame.DataFrame'>\n",
      "RangeIndex: 2075 entries, 0 to 2074\n",
      "Data columns (total 12 columns):\n",
      " #   Column    Non-Null Count  Dtype  \n",
      "---  ------    --------------  -----  \n",
      " 0   tweet_id  2075 non-null   int64  \n",
      " 1   jpg_url   2075 non-null   object \n",
      " 2   img_num   2075 non-null   int64  \n",
      " 3   p1        2075 non-null   object \n",
      " 4   p1_conf   2075 non-null   float64\n",
      " 5   p1_dog    2075 non-null   bool   \n",
      " 6   p2        2075 non-null   object \n",
      " 7   p2_conf   2075 non-null   float64\n",
      " 8   p2_dog    2075 non-null   bool   \n",
      " 9   p3        2075 non-null   object \n",
      " 10  p3_conf   2075 non-null   float64\n",
      " 11  p3_dog    2075 non-null   bool   \n",
      "dtypes: bool(3), float64(3), int64(2), object(4)\n",
      "memory usage: 152.1+ KB\n"
     ]
    }
   ],
   "source": [
    "df_predictions.info()"
   ]
  },
  {
   "cell_type": "code",
   "execution_count": 25,
   "id": "bearing-information",
   "metadata": {},
   "outputs": [
    {
     "data": {
      "text/html": [
       "<div>\n",
       "<style scoped>\n",
       "    .dataframe tbody tr th:only-of-type {\n",
       "        vertical-align: middle;\n",
       "    }\n",
       "\n",
       "    .dataframe tbody tr th {\n",
       "        vertical-align: top;\n",
       "    }\n",
       "\n",
       "    .dataframe thead th {\n",
       "        text-align: right;\n",
       "    }\n",
       "</style>\n",
       "<table border=\"1\" class=\"dataframe\">\n",
       "  <thead>\n",
       "    <tr style=\"text-align: right;\">\n",
       "      <th></th>\n",
       "      <th>p1_dog</th>\n",
       "      <th>p2_dog</th>\n",
       "      <th>p3_dog</th>\n",
       "    </tr>\n",
       "  </thead>\n",
       "  <tbody>\n",
       "    <tr>\n",
       "      <th>count</th>\n",
       "      <td>2075</td>\n",
       "      <td>2075</td>\n",
       "      <td>2075</td>\n",
       "    </tr>\n",
       "    <tr>\n",
       "      <th>unique</th>\n",
       "      <td>2</td>\n",
       "      <td>2</td>\n",
       "      <td>2</td>\n",
       "    </tr>\n",
       "    <tr>\n",
       "      <th>top</th>\n",
       "      <td>True</td>\n",
       "      <td>True</td>\n",
       "      <td>True</td>\n",
       "    </tr>\n",
       "    <tr>\n",
       "      <th>freq</th>\n",
       "      <td>1532</td>\n",
       "      <td>1553</td>\n",
       "      <td>1499</td>\n",
       "    </tr>\n",
       "  </tbody>\n",
       "</table>\n",
       "</div>"
      ],
      "text/plain": [
       "       p1_dog p2_dog p3_dog\n",
       "count    2075   2075   2075\n",
       "unique      2      2      2\n",
       "top      True   True   True\n",
       "freq     1532   1553   1499"
      ]
     },
     "execution_count": 25,
     "metadata": {},
     "output_type": "execute_result"
    }
   ],
   "source": [
    "df_predictions[['p1_dog', 'p2_dog', 'p3_dog']].describe()"
   ]
  },
  {
   "cell_type": "code",
   "execution_count": 26,
   "id": "ignored-shark",
   "metadata": {},
   "outputs": [
    {
     "data": {
      "text/html": [
       "<div>\n",
       "<style scoped>\n",
       "    .dataframe tbody tr th:only-of-type {\n",
       "        vertical-align: middle;\n",
       "    }\n",
       "\n",
       "    .dataframe tbody tr th {\n",
       "        vertical-align: top;\n",
       "    }\n",
       "\n",
       "    .dataframe thead th {\n",
       "        text-align: right;\n",
       "    }\n",
       "</style>\n",
       "<table border=\"1\" class=\"dataframe\">\n",
       "  <thead>\n",
       "    <tr style=\"text-align: right;\">\n",
       "      <th></th>\n",
       "      <th>p1</th>\n",
       "      <th>p2</th>\n",
       "      <th>p3</th>\n",
       "    </tr>\n",
       "  </thead>\n",
       "  <tbody>\n",
       "    <tr>\n",
       "      <th>1650</th>\n",
       "      <td>Pomeranian</td>\n",
       "      <td>Samoyed</td>\n",
       "      <td>Pembroke</td>\n",
       "    </tr>\n",
       "    <tr>\n",
       "      <th>1450</th>\n",
       "      <td>Samoyed</td>\n",
       "      <td>Pomeranian</td>\n",
       "      <td>keeshond</td>\n",
       "    </tr>\n",
       "    <tr>\n",
       "      <th>1367</th>\n",
       "      <td>paddle</td>\n",
       "      <td>canoe</td>\n",
       "      <td>lakeside</td>\n",
       "    </tr>\n",
       "    <tr>\n",
       "      <th>1250</th>\n",
       "      <td>kuvasz</td>\n",
       "      <td>Samoyed</td>\n",
       "      <td>pug</td>\n",
       "    </tr>\n",
       "    <tr>\n",
       "      <th>1778</th>\n",
       "      <td>Weimaraner</td>\n",
       "      <td>Chesapeake_Bay_retriever</td>\n",
       "      <td>American_Staffordshire_terrier</td>\n",
       "    </tr>\n",
       "    <tr>\n",
       "      <th>1021</th>\n",
       "      <td>pug</td>\n",
       "      <td>German_shepherd</td>\n",
       "      <td>Labrador_retriever</td>\n",
       "    </tr>\n",
       "    <tr>\n",
       "      <th>1874</th>\n",
       "      <td>Dandie_Dinmont</td>\n",
       "      <td>Maltese_dog</td>\n",
       "      <td>West_Highland_white_terrier</td>\n",
       "    </tr>\n",
       "    <tr>\n",
       "      <th>1547</th>\n",
       "      <td>Yorkshire_terrier</td>\n",
       "      <td>silky_terrier</td>\n",
       "      <td>Australian_terrier</td>\n",
       "    </tr>\n",
       "    <tr>\n",
       "      <th>1672</th>\n",
       "      <td>dingo</td>\n",
       "      <td>Pembroke</td>\n",
       "      <td>basenji</td>\n",
       "    </tr>\n",
       "    <tr>\n",
       "      <th>1845</th>\n",
       "      <td>Border_terrier</td>\n",
       "      <td>Brabancon_griffon</td>\n",
       "      <td>Yorkshire_terrier</td>\n",
       "    </tr>\n",
       "  </tbody>\n",
       "</table>\n",
       "</div>"
      ],
      "text/plain": [
       "                     p1                        p2  \\\n",
       "1650         Pomeranian                   Samoyed   \n",
       "1450            Samoyed                Pomeranian   \n",
       "1367             paddle                     canoe   \n",
       "1250             kuvasz                   Samoyed   \n",
       "1778         Weimaraner  Chesapeake_Bay_retriever   \n",
       "1021                pug           German_shepherd   \n",
       "1874     Dandie_Dinmont               Maltese_dog   \n",
       "1547  Yorkshire_terrier             silky_terrier   \n",
       "1672              dingo                  Pembroke   \n",
       "1845     Border_terrier         Brabancon_griffon   \n",
       "\n",
       "                                  p3  \n",
       "1650                        Pembroke  \n",
       "1450                        keeshond  \n",
       "1367                        lakeside  \n",
       "1250                             pug  \n",
       "1778  American_Staffordshire_terrier  \n",
       "1021              Labrador_retriever  \n",
       "1874     West_Highland_white_terrier  \n",
       "1547              Australian_terrier  \n",
       "1672                         basenji  \n",
       "1845               Yorkshire_terrier  "
      ]
     },
     "execution_count": 26,
     "metadata": {},
     "output_type": "execute_result"
    }
   ],
   "source": [
    "df_predictions[['p1', 'p2', 'p3']].sample(10)"
   ]
  },
  {
   "cell_type": "markdown",
   "id": "hindu-hughes",
   "metadata": {},
   "source": [
    "## Twitter API:"
   ]
  },
  {
   "cell_type": "code",
   "execution_count": 27,
   "id": "higher-evans",
   "metadata": {},
   "outputs": [
    {
     "data": {
      "text/html": [
       "<div>\n",
       "<style scoped>\n",
       "    .dataframe tbody tr th:only-of-type {\n",
       "        vertical-align: middle;\n",
       "    }\n",
       "\n",
       "    .dataframe tbody tr th {\n",
       "        vertical-align: top;\n",
       "    }\n",
       "\n",
       "    .dataframe thead th {\n",
       "        text-align: right;\n",
       "    }\n",
       "</style>\n",
       "<table border=\"1\" class=\"dataframe\">\n",
       "  <thead>\n",
       "    <tr style=\"text-align: right;\">\n",
       "      <th></th>\n",
       "      <th>created_at</th>\n",
       "      <th>id</th>\n",
       "      <th>id_str</th>\n",
       "      <th>full_text</th>\n",
       "      <th>truncated</th>\n",
       "      <th>display_text_range</th>\n",
       "      <th>entities</th>\n",
       "      <th>extended_entities</th>\n",
       "      <th>source</th>\n",
       "      <th>in_reply_to_status_id</th>\n",
       "      <th>...</th>\n",
       "      <th>favorite_count</th>\n",
       "      <th>favorited</th>\n",
       "      <th>retweeted</th>\n",
       "      <th>possibly_sensitive</th>\n",
       "      <th>possibly_sensitive_appealable</th>\n",
       "      <th>lang</th>\n",
       "      <th>retweeted_status</th>\n",
       "      <th>quoted_status_id</th>\n",
       "      <th>quoted_status_id_str</th>\n",
       "      <th>quoted_status</th>\n",
       "    </tr>\n",
       "  </thead>\n",
       "  <tbody>\n",
       "    <tr>\n",
       "      <th>0</th>\n",
       "      <td>Tue Aug 01 16:23:56 +0000 2017</td>\n",
       "      <td>892420643555336193</td>\n",
       "      <td>892420643555336193</td>\n",
       "      <td>This is Phineas. He's a mystical boy. Only eve...</td>\n",
       "      <td>False</td>\n",
       "      <td>[0, 85]</td>\n",
       "      <td>{'hashtags': [], 'symbols': [], 'user_mentions...</td>\n",
       "      <td>{'media': [{'id': 892420639486877696, 'id_str'...</td>\n",
       "      <td>&lt;a href=\"http://twitter.com/download/iphone\" r...</td>\n",
       "      <td>NaN</td>\n",
       "      <td>...</td>\n",
       "      <td>39467</td>\n",
       "      <td>False</td>\n",
       "      <td>False</td>\n",
       "      <td>False</td>\n",
       "      <td>False</td>\n",
       "      <td>en</td>\n",
       "      <td>NaN</td>\n",
       "      <td>NaN</td>\n",
       "      <td>NaN</td>\n",
       "      <td>NaN</td>\n",
       "    </tr>\n",
       "    <tr>\n",
       "      <th>1</th>\n",
       "      <td>Tue Aug 01 00:17:27 +0000 2017</td>\n",
       "      <td>892177421306343426</td>\n",
       "      <td>892177421306343426</td>\n",
       "      <td>This is Tilly. She's just checking pup on you....</td>\n",
       "      <td>False</td>\n",
       "      <td>[0, 138]</td>\n",
       "      <td>{'hashtags': [], 'symbols': [], 'user_mentions...</td>\n",
       "      <td>{'media': [{'id': 892177413194625024, 'id_str'...</td>\n",
       "      <td>&lt;a href=\"http://twitter.com/download/iphone\" r...</td>\n",
       "      <td>NaN</td>\n",
       "      <td>...</td>\n",
       "      <td>33819</td>\n",
       "      <td>False</td>\n",
       "      <td>False</td>\n",
       "      <td>False</td>\n",
       "      <td>False</td>\n",
       "      <td>en</td>\n",
       "      <td>NaN</td>\n",
       "      <td>NaN</td>\n",
       "      <td>NaN</td>\n",
       "      <td>NaN</td>\n",
       "    </tr>\n",
       "    <tr>\n",
       "      <th>2</th>\n",
       "      <td>Mon Jul 31 00:18:03 +0000 2017</td>\n",
       "      <td>891815181378084864</td>\n",
       "      <td>891815181378084864</td>\n",
       "      <td>This is Archie. He is a rare Norwegian Pouncin...</td>\n",
       "      <td>False</td>\n",
       "      <td>[0, 121]</td>\n",
       "      <td>{'hashtags': [], 'symbols': [], 'user_mentions...</td>\n",
       "      <td>{'media': [{'id': 891815175371796480, 'id_str'...</td>\n",
       "      <td>&lt;a href=\"http://twitter.com/download/iphone\" r...</td>\n",
       "      <td>NaN</td>\n",
       "      <td>...</td>\n",
       "      <td>25461</td>\n",
       "      <td>False</td>\n",
       "      <td>False</td>\n",
       "      <td>False</td>\n",
       "      <td>False</td>\n",
       "      <td>en</td>\n",
       "      <td>NaN</td>\n",
       "      <td>NaN</td>\n",
       "      <td>NaN</td>\n",
       "      <td>NaN</td>\n",
       "    </tr>\n",
       "    <tr>\n",
       "      <th>3</th>\n",
       "      <td>Sun Jul 30 15:58:51 +0000 2017</td>\n",
       "      <td>891689557279858688</td>\n",
       "      <td>891689557279858688</td>\n",
       "      <td>This is Darla. She commenced a snooze mid meal...</td>\n",
       "      <td>False</td>\n",
       "      <td>[0, 79]</td>\n",
       "      <td>{'hashtags': [], 'symbols': [], 'user_mentions...</td>\n",
       "      <td>{'media': [{'id': 891689552724799489, 'id_str'...</td>\n",
       "      <td>&lt;a href=\"http://twitter.com/download/iphone\" r...</td>\n",
       "      <td>NaN</td>\n",
       "      <td>...</td>\n",
       "      <td>42908</td>\n",
       "      <td>False</td>\n",
       "      <td>False</td>\n",
       "      <td>False</td>\n",
       "      <td>False</td>\n",
       "      <td>en</td>\n",
       "      <td>NaN</td>\n",
       "      <td>NaN</td>\n",
       "      <td>NaN</td>\n",
       "      <td>NaN</td>\n",
       "    </tr>\n",
       "    <tr>\n",
       "      <th>4</th>\n",
       "      <td>Sat Jul 29 16:00:24 +0000 2017</td>\n",
       "      <td>891327558926688256</td>\n",
       "      <td>891327558926688256</td>\n",
       "      <td>This is Franklin. He would like you to stop ca...</td>\n",
       "      <td>False</td>\n",
       "      <td>[0, 138]</td>\n",
       "      <td>{'hashtags': [{'text': 'BarkWeek', 'indices': ...</td>\n",
       "      <td>{'media': [{'id': 891327551943041024, 'id_str'...</td>\n",
       "      <td>&lt;a href=\"http://twitter.com/download/iphone\" r...</td>\n",
       "      <td>NaN</td>\n",
       "      <td>...</td>\n",
       "      <td>41048</td>\n",
       "      <td>False</td>\n",
       "      <td>False</td>\n",
       "      <td>False</td>\n",
       "      <td>False</td>\n",
       "      <td>en</td>\n",
       "      <td>NaN</td>\n",
       "      <td>NaN</td>\n",
       "      <td>NaN</td>\n",
       "      <td>NaN</td>\n",
       "    </tr>\n",
       "  </tbody>\n",
       "</table>\n",
       "<p>5 rows × 31 columns</p>\n",
       "</div>"
      ],
      "text/plain": [
       "                       created_at                  id              id_str  \\\n",
       "0  Tue Aug 01 16:23:56 +0000 2017  892420643555336193  892420643555336193   \n",
       "1  Tue Aug 01 00:17:27 +0000 2017  892177421306343426  892177421306343426   \n",
       "2  Mon Jul 31 00:18:03 +0000 2017  891815181378084864  891815181378084864   \n",
       "3  Sun Jul 30 15:58:51 +0000 2017  891689557279858688  891689557279858688   \n",
       "4  Sat Jul 29 16:00:24 +0000 2017  891327558926688256  891327558926688256   \n",
       "\n",
       "                                           full_text  truncated  \\\n",
       "0  This is Phineas. He's a mystical boy. Only eve...      False   \n",
       "1  This is Tilly. She's just checking pup on you....      False   \n",
       "2  This is Archie. He is a rare Norwegian Pouncin...      False   \n",
       "3  This is Darla. She commenced a snooze mid meal...      False   \n",
       "4  This is Franklin. He would like you to stop ca...      False   \n",
       "\n",
       "  display_text_range                                           entities  \\\n",
       "0            [0, 85]  {'hashtags': [], 'symbols': [], 'user_mentions...   \n",
       "1           [0, 138]  {'hashtags': [], 'symbols': [], 'user_mentions...   \n",
       "2           [0, 121]  {'hashtags': [], 'symbols': [], 'user_mentions...   \n",
       "3            [0, 79]  {'hashtags': [], 'symbols': [], 'user_mentions...   \n",
       "4           [0, 138]  {'hashtags': [{'text': 'BarkWeek', 'indices': ...   \n",
       "\n",
       "                                   extended_entities  \\\n",
       "0  {'media': [{'id': 892420639486877696, 'id_str'...   \n",
       "1  {'media': [{'id': 892177413194625024, 'id_str'...   \n",
       "2  {'media': [{'id': 891815175371796480, 'id_str'...   \n",
       "3  {'media': [{'id': 891689552724799489, 'id_str'...   \n",
       "4  {'media': [{'id': 891327551943041024, 'id_str'...   \n",
       "\n",
       "                                              source  in_reply_to_status_id  \\\n",
       "0  <a href=\"http://twitter.com/download/iphone\" r...                    NaN   \n",
       "1  <a href=\"http://twitter.com/download/iphone\" r...                    NaN   \n",
       "2  <a href=\"http://twitter.com/download/iphone\" r...                    NaN   \n",
       "3  <a href=\"http://twitter.com/download/iphone\" r...                    NaN   \n",
       "4  <a href=\"http://twitter.com/download/iphone\" r...                    NaN   \n",
       "\n",
       "   ... favorite_count  favorited retweeted possibly_sensitive  \\\n",
       "0  ...          39467      False     False              False   \n",
       "1  ...          33819      False     False              False   \n",
       "2  ...          25461      False     False              False   \n",
       "3  ...          42908      False     False              False   \n",
       "4  ...          41048      False     False              False   \n",
       "\n",
       "  possibly_sensitive_appealable lang retweeted_status quoted_status_id  \\\n",
       "0                         False   en              NaN              NaN   \n",
       "1                         False   en              NaN              NaN   \n",
       "2                         False   en              NaN              NaN   \n",
       "3                         False   en              NaN              NaN   \n",
       "4                         False   en              NaN              NaN   \n",
       "\n",
       "  quoted_status_id_str  quoted_status  \n",
       "0                  NaN            NaN  \n",
       "1                  NaN            NaN  \n",
       "2                  NaN            NaN  \n",
       "3                  NaN            NaN  \n",
       "4                  NaN            NaN  \n",
       "\n",
       "[5 rows x 31 columns]"
      ]
     },
     "execution_count": 27,
     "metadata": {},
     "output_type": "execute_result"
    }
   ],
   "source": [
    "df_api.head()"
   ]
  },
  {
   "cell_type": "code",
   "execution_count": 28,
   "id": "tutorial-stupid",
   "metadata": {},
   "outputs": [
    {
     "data": {
      "text/html": [
       "<div>\n",
       "<style scoped>\n",
       "    .dataframe tbody tr th:only-of-type {\n",
       "        vertical-align: middle;\n",
       "    }\n",
       "\n",
       "    .dataframe tbody tr th {\n",
       "        vertical-align: top;\n",
       "    }\n",
       "\n",
       "    .dataframe thead th {\n",
       "        text-align: right;\n",
       "    }\n",
       "</style>\n",
       "<table border=\"1\" class=\"dataframe\">\n",
       "  <thead>\n",
       "    <tr style=\"text-align: right;\">\n",
       "      <th></th>\n",
       "      <th>created_at</th>\n",
       "      <th>id</th>\n",
       "      <th>id_str</th>\n",
       "      <th>full_text</th>\n",
       "      <th>truncated</th>\n",
       "      <th>display_text_range</th>\n",
       "      <th>entities</th>\n",
       "      <th>extended_entities</th>\n",
       "      <th>source</th>\n",
       "      <th>in_reply_to_status_id</th>\n",
       "      <th>...</th>\n",
       "      <th>favorite_count</th>\n",
       "      <th>favorited</th>\n",
       "      <th>retweeted</th>\n",
       "      <th>possibly_sensitive</th>\n",
       "      <th>possibly_sensitive_appealable</th>\n",
       "      <th>lang</th>\n",
       "      <th>retweeted_status</th>\n",
       "      <th>quoted_status_id</th>\n",
       "      <th>quoted_status_id_str</th>\n",
       "      <th>quoted_status</th>\n",
       "    </tr>\n",
       "  </thead>\n",
       "  <tbody>\n",
       "    <tr>\n",
       "      <th>2349</th>\n",
       "      <td>Mon Nov 16 00:24:50 +0000 2015</td>\n",
       "      <td>666049248165822465</td>\n",
       "      <td>666049248165822465</td>\n",
       "      <td>Here we have a 1949 1st generation vulpix. Enj...</td>\n",
       "      <td>False</td>\n",
       "      <td>[0, 120]</td>\n",
       "      <td>{'hashtags': [], 'symbols': [], 'user_mentions...</td>\n",
       "      <td>{'media': [{'id': 666049244999131136, 'id_str'...</td>\n",
       "      <td>&lt;a href=\"http://twitter.com/download/iphone\" r...</td>\n",
       "      <td>NaN</td>\n",
       "      <td>...</td>\n",
       "      <td>111</td>\n",
       "      <td>False</td>\n",
       "      <td>False</td>\n",
       "      <td>False</td>\n",
       "      <td>False</td>\n",
       "      <td>en</td>\n",
       "      <td>NaN</td>\n",
       "      <td>NaN</td>\n",
       "      <td>NaN</td>\n",
       "      <td>NaN</td>\n",
       "    </tr>\n",
       "    <tr>\n",
       "      <th>2350</th>\n",
       "      <td>Mon Nov 16 00:04:52 +0000 2015</td>\n",
       "      <td>666044226329800704</td>\n",
       "      <td>666044226329800704</td>\n",
       "      <td>This is a purebred Piers Morgan. Loves to Netf...</td>\n",
       "      <td>False</td>\n",
       "      <td>[0, 137]</td>\n",
       "      <td>{'hashtags': [], 'symbols': [], 'user_mentions...</td>\n",
       "      <td>{'media': [{'id': 666044217047650304, 'id_str'...</td>\n",
       "      <td>&lt;a href=\"http://twitter.com/download/iphone\" r...</td>\n",
       "      <td>NaN</td>\n",
       "      <td>...</td>\n",
       "      <td>311</td>\n",
       "      <td>False</td>\n",
       "      <td>False</td>\n",
       "      <td>False</td>\n",
       "      <td>False</td>\n",
       "      <td>en</td>\n",
       "      <td>NaN</td>\n",
       "      <td>NaN</td>\n",
       "      <td>NaN</td>\n",
       "      <td>NaN</td>\n",
       "    </tr>\n",
       "    <tr>\n",
       "      <th>2351</th>\n",
       "      <td>Sun Nov 15 23:21:54 +0000 2015</td>\n",
       "      <td>666033412701032449</td>\n",
       "      <td>666033412701032449</td>\n",
       "      <td>Here is a very happy pup. Big fan of well-main...</td>\n",
       "      <td>False</td>\n",
       "      <td>[0, 130]</td>\n",
       "      <td>{'hashtags': [], 'symbols': [], 'user_mentions...</td>\n",
       "      <td>{'media': [{'id': 666033409081393153, 'id_str'...</td>\n",
       "      <td>&lt;a href=\"http://twitter.com/download/iphone\" r...</td>\n",
       "      <td>NaN</td>\n",
       "      <td>...</td>\n",
       "      <td>128</td>\n",
       "      <td>False</td>\n",
       "      <td>False</td>\n",
       "      <td>False</td>\n",
       "      <td>False</td>\n",
       "      <td>en</td>\n",
       "      <td>NaN</td>\n",
       "      <td>NaN</td>\n",
       "      <td>NaN</td>\n",
       "      <td>NaN</td>\n",
       "    </tr>\n",
       "    <tr>\n",
       "      <th>2352</th>\n",
       "      <td>Sun Nov 15 23:05:30 +0000 2015</td>\n",
       "      <td>666029285002620928</td>\n",
       "      <td>666029285002620928</td>\n",
       "      <td>This is a western brown Mitsubishi terrier. Up...</td>\n",
       "      <td>False</td>\n",
       "      <td>[0, 139]</td>\n",
       "      <td>{'hashtags': [], 'symbols': [], 'user_mentions...</td>\n",
       "      <td>{'media': [{'id': 666029276303482880, 'id_str'...</td>\n",
       "      <td>&lt;a href=\"http://twitter.com/download/iphone\" r...</td>\n",
       "      <td>NaN</td>\n",
       "      <td>...</td>\n",
       "      <td>132</td>\n",
       "      <td>False</td>\n",
       "      <td>False</td>\n",
       "      <td>False</td>\n",
       "      <td>False</td>\n",
       "      <td>en</td>\n",
       "      <td>NaN</td>\n",
       "      <td>NaN</td>\n",
       "      <td>NaN</td>\n",
       "      <td>NaN</td>\n",
       "    </tr>\n",
       "    <tr>\n",
       "      <th>2353</th>\n",
       "      <td>Sun Nov 15 22:32:08 +0000 2015</td>\n",
       "      <td>666020888022790149</td>\n",
       "      <td>666020888022790149</td>\n",
       "      <td>Here we have a Japanese Irish Setter. Lost eye...</td>\n",
       "      <td>False</td>\n",
       "      <td>[0, 131]</td>\n",
       "      <td>{'hashtags': [], 'symbols': [], 'user_mentions...</td>\n",
       "      <td>{'media': [{'id': 666020881337073664, 'id_str'...</td>\n",
       "      <td>&lt;a href=\"http://twitter.com/download/iphone\" r...</td>\n",
       "      <td>NaN</td>\n",
       "      <td>...</td>\n",
       "      <td>2535</td>\n",
       "      <td>False</td>\n",
       "      <td>False</td>\n",
       "      <td>False</td>\n",
       "      <td>False</td>\n",
       "      <td>en</td>\n",
       "      <td>NaN</td>\n",
       "      <td>NaN</td>\n",
       "      <td>NaN</td>\n",
       "      <td>NaN</td>\n",
       "    </tr>\n",
       "  </tbody>\n",
       "</table>\n",
       "<p>5 rows × 31 columns</p>\n",
       "</div>"
      ],
      "text/plain": [
       "                          created_at                  id              id_str  \\\n",
       "2349  Mon Nov 16 00:24:50 +0000 2015  666049248165822465  666049248165822465   \n",
       "2350  Mon Nov 16 00:04:52 +0000 2015  666044226329800704  666044226329800704   \n",
       "2351  Sun Nov 15 23:21:54 +0000 2015  666033412701032449  666033412701032449   \n",
       "2352  Sun Nov 15 23:05:30 +0000 2015  666029285002620928  666029285002620928   \n",
       "2353  Sun Nov 15 22:32:08 +0000 2015  666020888022790149  666020888022790149   \n",
       "\n",
       "                                              full_text  truncated  \\\n",
       "2349  Here we have a 1949 1st generation vulpix. Enj...      False   \n",
       "2350  This is a purebred Piers Morgan. Loves to Netf...      False   \n",
       "2351  Here is a very happy pup. Big fan of well-main...      False   \n",
       "2352  This is a western brown Mitsubishi terrier. Up...      False   \n",
       "2353  Here we have a Japanese Irish Setter. Lost eye...      False   \n",
       "\n",
       "     display_text_range                                           entities  \\\n",
       "2349           [0, 120]  {'hashtags': [], 'symbols': [], 'user_mentions...   \n",
       "2350           [0, 137]  {'hashtags': [], 'symbols': [], 'user_mentions...   \n",
       "2351           [0, 130]  {'hashtags': [], 'symbols': [], 'user_mentions...   \n",
       "2352           [0, 139]  {'hashtags': [], 'symbols': [], 'user_mentions...   \n",
       "2353           [0, 131]  {'hashtags': [], 'symbols': [], 'user_mentions...   \n",
       "\n",
       "                                      extended_entities  \\\n",
       "2349  {'media': [{'id': 666049244999131136, 'id_str'...   \n",
       "2350  {'media': [{'id': 666044217047650304, 'id_str'...   \n",
       "2351  {'media': [{'id': 666033409081393153, 'id_str'...   \n",
       "2352  {'media': [{'id': 666029276303482880, 'id_str'...   \n",
       "2353  {'media': [{'id': 666020881337073664, 'id_str'...   \n",
       "\n",
       "                                                 source  \\\n",
       "2349  <a href=\"http://twitter.com/download/iphone\" r...   \n",
       "2350  <a href=\"http://twitter.com/download/iphone\" r...   \n",
       "2351  <a href=\"http://twitter.com/download/iphone\" r...   \n",
       "2352  <a href=\"http://twitter.com/download/iphone\" r...   \n",
       "2353  <a href=\"http://twitter.com/download/iphone\" r...   \n",
       "\n",
       "      in_reply_to_status_id  ... favorite_count  favorited retweeted  \\\n",
       "2349                    NaN  ...            111      False     False   \n",
       "2350                    NaN  ...            311      False     False   \n",
       "2351                    NaN  ...            128      False     False   \n",
       "2352                    NaN  ...            132      False     False   \n",
       "2353                    NaN  ...           2535      False     False   \n",
       "\n",
       "     possibly_sensitive possibly_sensitive_appealable lang retweeted_status  \\\n",
       "2349              False                         False   en              NaN   \n",
       "2350              False                         False   en              NaN   \n",
       "2351              False                         False   en              NaN   \n",
       "2352              False                         False   en              NaN   \n",
       "2353              False                         False   en              NaN   \n",
       "\n",
       "     quoted_status_id quoted_status_id_str  quoted_status  \n",
       "2349              NaN                  NaN            NaN  \n",
       "2350              NaN                  NaN            NaN  \n",
       "2351              NaN                  NaN            NaN  \n",
       "2352              NaN                  NaN            NaN  \n",
       "2353              NaN                  NaN            NaN  \n",
       "\n",
       "[5 rows x 31 columns]"
      ]
     },
     "execution_count": 28,
     "metadata": {},
     "output_type": "execute_result"
    }
   ],
   "source": [
    "df_api.tail()"
   ]
  },
  {
   "cell_type": "code",
   "execution_count": 29,
   "id": "regulation-antenna",
   "metadata": {},
   "outputs": [
    {
     "data": {
      "text/html": [
       "<div>\n",
       "<style scoped>\n",
       "    .dataframe tbody tr th:only-of-type {\n",
       "        vertical-align: middle;\n",
       "    }\n",
       "\n",
       "    .dataframe tbody tr th {\n",
       "        vertical-align: top;\n",
       "    }\n",
       "\n",
       "    .dataframe thead th {\n",
       "        text-align: right;\n",
       "    }\n",
       "</style>\n",
       "<table border=\"1\" class=\"dataframe\">\n",
       "  <thead>\n",
       "    <tr style=\"text-align: right;\">\n",
       "      <th></th>\n",
       "      <th>created_at</th>\n",
       "      <th>id</th>\n",
       "      <th>id_str</th>\n",
       "      <th>full_text</th>\n",
       "      <th>truncated</th>\n",
       "      <th>display_text_range</th>\n",
       "      <th>entities</th>\n",
       "      <th>extended_entities</th>\n",
       "      <th>source</th>\n",
       "      <th>in_reply_to_status_id</th>\n",
       "      <th>...</th>\n",
       "      <th>favorite_count</th>\n",
       "      <th>favorited</th>\n",
       "      <th>retweeted</th>\n",
       "      <th>possibly_sensitive</th>\n",
       "      <th>possibly_sensitive_appealable</th>\n",
       "      <th>lang</th>\n",
       "      <th>retweeted_status</th>\n",
       "      <th>quoted_status_id</th>\n",
       "      <th>quoted_status_id_str</th>\n",
       "      <th>quoted_status</th>\n",
       "    </tr>\n",
       "  </thead>\n",
       "  <tbody>\n",
       "    <tr>\n",
       "      <th>1925</th>\n",
       "      <td>Tue Dec 08 02:23:09 +0000 2015</td>\n",
       "      <td>674051556661161984</td>\n",
       "      <td>674051556661161984</td>\n",
       "      <td>This is Lucy. She knits. Specializes in tobogg...</td>\n",
       "      <td>False</td>\n",
       "      <td>[0, 109]</td>\n",
       "      <td>{'hashtags': [], 'symbols': [], 'user_mentions...</td>\n",
       "      <td>{'media': [{'id': 674051551040770048, 'id_str'...</td>\n",
       "      <td>&lt;a href=\"http://twitter.com/download/iphone\" r...</td>\n",
       "      <td>NaN</td>\n",
       "      <td>...</td>\n",
       "      <td>1564</td>\n",
       "      <td>False</td>\n",
       "      <td>False</td>\n",
       "      <td>False</td>\n",
       "      <td>False</td>\n",
       "      <td>en</td>\n",
       "      <td>NaN</td>\n",
       "      <td>NaN</td>\n",
       "      <td>NaN</td>\n",
       "      <td>NaN</td>\n",
       "    </tr>\n",
       "    <tr>\n",
       "      <th>983</th>\n",
       "      <td>Sat Jul 02 03:00:36 +0000 2016</td>\n",
       "      <td>749075273010798592</td>\n",
       "      <td>749075273010798592</td>\n",
       "      <td>This is Boomer. He's self-baptizing. Other dog...</td>\n",
       "      <td>False</td>\n",
       "      <td>[0, 130]</td>\n",
       "      <td>{'hashtags': [], 'symbols': [], 'user_mentions...</td>\n",
       "      <td>NaN</td>\n",
       "      <td>&lt;a href=\"http://vine.co\" rel=\"nofollow\"&gt;Vine -...</td>\n",
       "      <td>NaN</td>\n",
       "      <td>...</td>\n",
       "      <td>6353</td>\n",
       "      <td>False</td>\n",
       "      <td>False</td>\n",
       "      <td>False</td>\n",
       "      <td>False</td>\n",
       "      <td>en</td>\n",
       "      <td>NaN</td>\n",
       "      <td>NaN</td>\n",
       "      <td>NaN</td>\n",
       "      <td>NaN</td>\n",
       "    </tr>\n",
       "    <tr>\n",
       "      <th>220</th>\n",
       "      <td>Thu Apr 06 00:13:11 +0000 2017</td>\n",
       "      <td>849776966551130114</td>\n",
       "      <td>849776966551130114</td>\n",
       "      <td>Seriously guys? Again? We only rate dogs. Plea...</td>\n",
       "      <td>False</td>\n",
       "      <td>[0, 135]</td>\n",
       "      <td>{'hashtags': [], 'symbols': [], 'user_mentions...</td>\n",
       "      <td>{'media': [{'id': 849776958493818880, 'id_str'...</td>\n",
       "      <td>&lt;a href=\"http://twitter.com/download/iphone\" r...</td>\n",
       "      <td>NaN</td>\n",
       "      <td>...</td>\n",
       "      <td>32390</td>\n",
       "      <td>False</td>\n",
       "      <td>False</td>\n",
       "      <td>False</td>\n",
       "      <td>False</td>\n",
       "      <td>en</td>\n",
       "      <td>NaN</td>\n",
       "      <td>NaN</td>\n",
       "      <td>NaN</td>\n",
       "      <td>NaN</td>\n",
       "    </tr>\n",
       "    <tr>\n",
       "      <th>1583</th>\n",
       "      <td>Tue Jan 12 16:25:26 +0000 2016</td>\n",
       "      <td>686947101016735744</td>\n",
       "      <td>686947101016735744</td>\n",
       "      <td>This is Jackson. He was specifically told not ...</td>\n",
       "      <td>False</td>\n",
       "      <td>[0, 137]</td>\n",
       "      <td>{'hashtags': [], 'symbols': [], 'user_mentions...</td>\n",
       "      <td>{'media': [{'id': 686947095916363777, 'id_str'...</td>\n",
       "      <td>&lt;a href=\"http://twitter.com/download/iphone\" r...</td>\n",
       "      <td>NaN</td>\n",
       "      <td>...</td>\n",
       "      <td>9433</td>\n",
       "      <td>False</td>\n",
       "      <td>False</td>\n",
       "      <td>False</td>\n",
       "      <td>False</td>\n",
       "      <td>en</td>\n",
       "      <td>NaN</td>\n",
       "      <td>NaN</td>\n",
       "      <td>NaN</td>\n",
       "      <td>NaN</td>\n",
       "    </tr>\n",
       "    <tr>\n",
       "      <th>702</th>\n",
       "      <td>Tue Oct 11 19:39:28 +0000 2016</td>\n",
       "      <td>785927819176054784</td>\n",
       "      <td>785927819176054784</td>\n",
       "      <td>This is Lucy. She's strives to be the best pot...</td>\n",
       "      <td>False</td>\n",
       "      <td>[0, 78]</td>\n",
       "      <td>{'hashtags': [], 'symbols': [], 'user_mentions...</td>\n",
       "      <td>{'media': [{'id': 785927792949071872, 'id_str'...</td>\n",
       "      <td>&lt;a href=\"http://twitter.com/download/iphone\" r...</td>\n",
       "      <td>NaN</td>\n",
       "      <td>...</td>\n",
       "      <td>12696</td>\n",
       "      <td>False</td>\n",
       "      <td>False</td>\n",
       "      <td>False</td>\n",
       "      <td>False</td>\n",
       "      <td>en</td>\n",
       "      <td>NaN</td>\n",
       "      <td>NaN</td>\n",
       "      <td>NaN</td>\n",
       "      <td>NaN</td>\n",
       "    </tr>\n",
       "    <tr>\n",
       "      <th>927</th>\n",
       "      <td>Sun Jul 17 01:05:25 +0000 2016</td>\n",
       "      <td>754482103782404096</td>\n",
       "      <td>754482103782404096</td>\n",
       "      <td>This is Milo. He's currently plotting his reve...</td>\n",
       "      <td>False</td>\n",
       "      <td>[0, 56]</td>\n",
       "      <td>{'hashtags': [], 'symbols': [], 'user_mentions...</td>\n",
       "      <td>{'media': [{'id': 754481405627957248, 'id_str'...</td>\n",
       "      <td>&lt;a href=\"http://twitter.com/download/iphone\" r...</td>\n",
       "      <td>NaN</td>\n",
       "      <td>...</td>\n",
       "      <td>5852</td>\n",
       "      <td>False</td>\n",
       "      <td>False</td>\n",
       "      <td>False</td>\n",
       "      <td>False</td>\n",
       "      <td>en</td>\n",
       "      <td>NaN</td>\n",
       "      <td>NaN</td>\n",
       "      <td>NaN</td>\n",
       "      <td>NaN</td>\n",
       "    </tr>\n",
       "    <tr>\n",
       "      <th>1786</th>\n",
       "      <td>Thu Dec 17 18:34:46 +0000 2015</td>\n",
       "      <td>677557565589463040</td>\n",
       "      <td>677557565589463040</td>\n",
       "      <td>Reckless pupper here. Not even looking at road...</td>\n",
       "      <td>False</td>\n",
       "      <td>[0, 140]</td>\n",
       "      <td>{'hashtags': [], 'symbols': [], 'user_mentions...</td>\n",
       "      <td>{'media': [{'id': 677557553648242688, 'id_str'...</td>\n",
       "      <td>&lt;a href=\"http://twitter.com/download/iphone\" r...</td>\n",
       "      <td>NaN</td>\n",
       "      <td>...</td>\n",
       "      <td>2665</td>\n",
       "      <td>False</td>\n",
       "      <td>False</td>\n",
       "      <td>False</td>\n",
       "      <td>False</td>\n",
       "      <td>en</td>\n",
       "      <td>NaN</td>\n",
       "      <td>NaN</td>\n",
       "      <td>NaN</td>\n",
       "      <td>NaN</td>\n",
       "    </tr>\n",
       "    <tr>\n",
       "      <th>858</th>\n",
       "      <td>Wed Aug 10 00:16:21 +0000 2016</td>\n",
       "      <td>763167063695355904</td>\n",
       "      <td>763167063695355904</td>\n",
       "      <td>RT @dog_rates: Meet Eve. She's a raging alcoho...</td>\n",
       "      <td>False</td>\n",
       "      <td>[0, 140]</td>\n",
       "      <td>{'hashtags': [], 'symbols': [], 'user_mentions...</td>\n",
       "      <td>NaN</td>\n",
       "      <td>&lt;a href=\"http://twitter.com/download/iphone\" r...</td>\n",
       "      <td>NaN</td>\n",
       "      <td>...</td>\n",
       "      <td>0</td>\n",
       "      <td>False</td>\n",
       "      <td>False</td>\n",
       "      <td>NaN</td>\n",
       "      <td>NaN</td>\n",
       "      <td>en</td>\n",
       "      <td>{'created_at': 'Sun Dec 06 00:17:55 +0000 2015...</td>\n",
       "      <td>NaN</td>\n",
       "      <td>NaN</td>\n",
       "      <td>NaN</td>\n",
       "    </tr>\n",
       "    <tr>\n",
       "      <th>736</th>\n",
       "      <td>Tue Sep 27 19:54:58 +0000 2016</td>\n",
       "      <td>780858289093574656</td>\n",
       "      <td>780858289093574656</td>\n",
       "      <td>This is Dash. He's very stylish, but also incr...</td>\n",
       "      <td>False</td>\n",
       "      <td>[0, 129]</td>\n",
       "      <td>{'hashtags': [], 'symbols': [], 'user_mentions...</td>\n",
       "      <td>{'media': [{'id': 780858283800297472, 'id_str'...</td>\n",
       "      <td>&lt;a href=\"http://twitter.com/download/iphone\" r...</td>\n",
       "      <td>NaN</td>\n",
       "      <td>...</td>\n",
       "      <td>8033</td>\n",
       "      <td>False</td>\n",
       "      <td>False</td>\n",
       "      <td>False</td>\n",
       "      <td>False</td>\n",
       "      <td>en</td>\n",
       "      <td>NaN</td>\n",
       "      <td>NaN</td>\n",
       "      <td>NaN</td>\n",
       "      <td>NaN</td>\n",
       "    </tr>\n",
       "    <tr>\n",
       "      <th>805</th>\n",
       "      <td>Sat Sep 03 16:04:27 +0000 2016</td>\n",
       "      <td>772102971039580160</td>\n",
       "      <td>772102971039580160</td>\n",
       "      <td>This is Penny. She's an OU cheerleader. About ...</td>\n",
       "      <td>False</td>\n",
       "      <td>[0, 107]</td>\n",
       "      <td>{'hashtags': [], 'symbols': [], 'user_mentions...</td>\n",
       "      <td>{'media': [{'id': 772102964165111808, 'id_str'...</td>\n",
       "      <td>&lt;a href=\"http://twitter.com/download/iphone\" r...</td>\n",
       "      <td>NaN</td>\n",
       "      <td>...</td>\n",
       "      <td>4448</td>\n",
       "      <td>False</td>\n",
       "      <td>False</td>\n",
       "      <td>False</td>\n",
       "      <td>False</td>\n",
       "      <td>en</td>\n",
       "      <td>NaN</td>\n",
       "      <td>NaN</td>\n",
       "      <td>NaN</td>\n",
       "      <td>NaN</td>\n",
       "    </tr>\n",
       "  </tbody>\n",
       "</table>\n",
       "<p>10 rows × 31 columns</p>\n",
       "</div>"
      ],
      "text/plain": [
       "                          created_at                  id              id_str  \\\n",
       "1925  Tue Dec 08 02:23:09 +0000 2015  674051556661161984  674051556661161984   \n",
       "983   Sat Jul 02 03:00:36 +0000 2016  749075273010798592  749075273010798592   \n",
       "220   Thu Apr 06 00:13:11 +0000 2017  849776966551130114  849776966551130114   \n",
       "1583  Tue Jan 12 16:25:26 +0000 2016  686947101016735744  686947101016735744   \n",
       "702   Tue Oct 11 19:39:28 +0000 2016  785927819176054784  785927819176054784   \n",
       "927   Sun Jul 17 01:05:25 +0000 2016  754482103782404096  754482103782404096   \n",
       "1786  Thu Dec 17 18:34:46 +0000 2015  677557565589463040  677557565589463040   \n",
       "858   Wed Aug 10 00:16:21 +0000 2016  763167063695355904  763167063695355904   \n",
       "736   Tue Sep 27 19:54:58 +0000 2016  780858289093574656  780858289093574656   \n",
       "805   Sat Sep 03 16:04:27 +0000 2016  772102971039580160  772102971039580160   \n",
       "\n",
       "                                              full_text  truncated  \\\n",
       "1925  This is Lucy. She knits. Specializes in tobogg...      False   \n",
       "983   This is Boomer. He's self-baptizing. Other dog...      False   \n",
       "220   Seriously guys? Again? We only rate dogs. Plea...      False   \n",
       "1583  This is Jackson. He was specifically told not ...      False   \n",
       "702   This is Lucy. She's strives to be the best pot...      False   \n",
       "927   This is Milo. He's currently plotting his reve...      False   \n",
       "1786  Reckless pupper here. Not even looking at road...      False   \n",
       "858   RT @dog_rates: Meet Eve. She's a raging alcoho...      False   \n",
       "736   This is Dash. He's very stylish, but also incr...      False   \n",
       "805   This is Penny. She's an OU cheerleader. About ...      False   \n",
       "\n",
       "     display_text_range                                           entities  \\\n",
       "1925           [0, 109]  {'hashtags': [], 'symbols': [], 'user_mentions...   \n",
       "983            [0, 130]  {'hashtags': [], 'symbols': [], 'user_mentions...   \n",
       "220            [0, 135]  {'hashtags': [], 'symbols': [], 'user_mentions...   \n",
       "1583           [0, 137]  {'hashtags': [], 'symbols': [], 'user_mentions...   \n",
       "702             [0, 78]  {'hashtags': [], 'symbols': [], 'user_mentions...   \n",
       "927             [0, 56]  {'hashtags': [], 'symbols': [], 'user_mentions...   \n",
       "1786           [0, 140]  {'hashtags': [], 'symbols': [], 'user_mentions...   \n",
       "858            [0, 140]  {'hashtags': [], 'symbols': [], 'user_mentions...   \n",
       "736            [0, 129]  {'hashtags': [], 'symbols': [], 'user_mentions...   \n",
       "805            [0, 107]  {'hashtags': [], 'symbols': [], 'user_mentions...   \n",
       "\n",
       "                                      extended_entities  \\\n",
       "1925  {'media': [{'id': 674051551040770048, 'id_str'...   \n",
       "983                                                 NaN   \n",
       "220   {'media': [{'id': 849776958493818880, 'id_str'...   \n",
       "1583  {'media': [{'id': 686947095916363777, 'id_str'...   \n",
       "702   {'media': [{'id': 785927792949071872, 'id_str'...   \n",
       "927   {'media': [{'id': 754481405627957248, 'id_str'...   \n",
       "1786  {'media': [{'id': 677557553648242688, 'id_str'...   \n",
       "858                                                 NaN   \n",
       "736   {'media': [{'id': 780858283800297472, 'id_str'...   \n",
       "805   {'media': [{'id': 772102964165111808, 'id_str'...   \n",
       "\n",
       "                                                 source  \\\n",
       "1925  <a href=\"http://twitter.com/download/iphone\" r...   \n",
       "983   <a href=\"http://vine.co\" rel=\"nofollow\">Vine -...   \n",
       "220   <a href=\"http://twitter.com/download/iphone\" r...   \n",
       "1583  <a href=\"http://twitter.com/download/iphone\" r...   \n",
       "702   <a href=\"http://twitter.com/download/iphone\" r...   \n",
       "927   <a href=\"http://twitter.com/download/iphone\" r...   \n",
       "1786  <a href=\"http://twitter.com/download/iphone\" r...   \n",
       "858   <a href=\"http://twitter.com/download/iphone\" r...   \n",
       "736   <a href=\"http://twitter.com/download/iphone\" r...   \n",
       "805   <a href=\"http://twitter.com/download/iphone\" r...   \n",
       "\n",
       "      in_reply_to_status_id  ... favorite_count  favorited retweeted  \\\n",
       "1925                    NaN  ...           1564      False     False   \n",
       "983                     NaN  ...           6353      False     False   \n",
       "220                     NaN  ...          32390      False     False   \n",
       "1583                    NaN  ...           9433      False     False   \n",
       "702                     NaN  ...          12696      False     False   \n",
       "927                     NaN  ...           5852      False     False   \n",
       "1786                    NaN  ...           2665      False     False   \n",
       "858                     NaN  ...              0      False     False   \n",
       "736                     NaN  ...           8033      False     False   \n",
       "805                     NaN  ...           4448      False     False   \n",
       "\n",
       "     possibly_sensitive possibly_sensitive_appealable lang  \\\n",
       "1925              False                         False   en   \n",
       "983               False                         False   en   \n",
       "220               False                         False   en   \n",
       "1583              False                         False   en   \n",
       "702               False                         False   en   \n",
       "927               False                         False   en   \n",
       "1786              False                         False   en   \n",
       "858                 NaN                           NaN   en   \n",
       "736               False                         False   en   \n",
       "805               False                         False   en   \n",
       "\n",
       "                                       retweeted_status quoted_status_id  \\\n",
       "1925                                                NaN              NaN   \n",
       "983                                                 NaN              NaN   \n",
       "220                                                 NaN              NaN   \n",
       "1583                                                NaN              NaN   \n",
       "702                                                 NaN              NaN   \n",
       "927                                                 NaN              NaN   \n",
       "1786                                                NaN              NaN   \n",
       "858   {'created_at': 'Sun Dec 06 00:17:55 +0000 2015...              NaN   \n",
       "736                                                 NaN              NaN   \n",
       "805                                                 NaN              NaN   \n",
       "\n",
       "     quoted_status_id_str  quoted_status  \n",
       "1925                  NaN            NaN  \n",
       "983                   NaN            NaN  \n",
       "220                   NaN            NaN  \n",
       "1583                  NaN            NaN  \n",
       "702                   NaN            NaN  \n",
       "927                   NaN            NaN  \n",
       "1786                  NaN            NaN  \n",
       "858                   NaN            NaN  \n",
       "736                   NaN            NaN  \n",
       "805                   NaN            NaN  \n",
       "\n",
       "[10 rows x 31 columns]"
      ]
     },
     "execution_count": 29,
     "metadata": {},
     "output_type": "execute_result"
    }
   ],
   "source": [
    "df_api.sample(10)"
   ]
  },
  {
   "cell_type": "code",
   "execution_count": 30,
   "id": "premier-evidence",
   "metadata": {},
   "outputs": [
    {
     "name": "stdout",
     "output_type": "stream",
     "text": [
      "<class 'pandas.core.frame.DataFrame'>\n",
      "RangeIndex: 2354 entries, 0 to 2353\n",
      "Data columns (total 31 columns):\n",
      " #   Column                         Non-Null Count  Dtype  \n",
      "---  ------                         --------------  -----  \n",
      " 0   created_at                     2354 non-null   object \n",
      " 1   id                             2354 non-null   int64  \n",
      " 2   id_str                         2354 non-null   object \n",
      " 3   full_text                      2354 non-null   object \n",
      " 4   truncated                      2354 non-null   bool   \n",
      " 5   display_text_range             2354 non-null   object \n",
      " 6   entities                       2354 non-null   object \n",
      " 7   extended_entities              2073 non-null   object \n",
      " 8   source                         2354 non-null   object \n",
      " 9   in_reply_to_status_id          78 non-null     float64\n",
      " 10  in_reply_to_status_id_str      78 non-null     object \n",
      " 11  in_reply_to_user_id            78 non-null     float64\n",
      " 12  in_reply_to_user_id_str        78 non-null     object \n",
      " 13  in_reply_to_screen_name        78 non-null     object \n",
      " 14  user                           2354 non-null   object \n",
      " 15  geo                            0 non-null      object \n",
      " 16  coordinates                    0 non-null      object \n",
      " 17  place                          1 non-null      object \n",
      " 18  contributors                   0 non-null      object \n",
      " 19  is_quote_status                2354 non-null   bool   \n",
      " 20  retweet_count                  2354 non-null   int64  \n",
      " 21  favorite_count                 2354 non-null   int64  \n",
      " 22  favorited                      2354 non-null   bool   \n",
      " 23  retweeted                      2354 non-null   bool   \n",
      " 24  possibly_sensitive             2211 non-null   object \n",
      " 25  possibly_sensitive_appealable  2211 non-null   object \n",
      " 26  lang                           2354 non-null   object \n",
      " 27  retweeted_status               179 non-null    object \n",
      " 28  quoted_status_id               29 non-null     float64\n",
      " 29  quoted_status_id_str           29 non-null     object \n",
      " 30  quoted_status                  28 non-null     object \n",
      "dtypes: bool(4), float64(3), int64(3), object(21)\n",
      "memory usage: 505.9+ KB\n"
     ]
    }
   ],
   "source": [
    "df_api.info()"
   ]
  },
  {
   "cell_type": "code",
   "execution_count": 31,
   "id": "absolute-polls",
   "metadata": {},
   "outputs": [
    {
     "data": {
      "text/plain": [
       "id                2354\n",
       "retweet_count     1724\n",
       "favorite_count    2007\n",
       "dtype: int64"
      ]
     },
     "execution_count": 31,
     "metadata": {},
     "output_type": "execute_result"
    }
   ],
   "source": [
    "df_api[['id', 'retweet_count', 'favorite_count']].nunique()"
   ]
  },
  {
   "cell_type": "code",
   "execution_count": 32,
   "id": "incredible-forth",
   "metadata": {},
   "outputs": [
    {
     "data": {
      "text/plain": [
       "<a href=\"http://twitter.com/download/iphone\" rel=\"nofollow\">Twitter for iPhone</a>     2219\n",
       "<a href=\"http://vine.co\" rel=\"nofollow\">Vine - Make a Scene</a>                          91\n",
       "<a href=\"http://twitter.com\" rel=\"nofollow\">Twitter Web Client</a>                       33\n",
       "<a href=\"https://about.twitter.com/products/tweetdeck\" rel=\"nofollow\">TweetDeck</a>      11\n",
       "Name: source, dtype: int64"
      ]
     },
     "execution_count": 32,
     "metadata": {},
     "output_type": "execute_result"
    }
   ],
   "source": [
    "df_api.source.value_counts()"
   ]
  },
  {
   "cell_type": "markdown",
   "id": "boolean-wholesale",
   "metadata": {},
   "source": [
    "# Observations :\n",
    "The following observations were made visually using Excel to view the data and Programmaticly using pandas functions.\n",
    "\n",
    "## Quality Issues :\n",
    "\n",
    "### 1) Enhanced Twitter Archive DataFrame\n",
    "* The (tweet_id) column is of data-type (int64) instead of (str).\n",
    "* The (timestamp) column is of data-type (str) instead of (datetime).\n",
    "* The (in_reply_to_status_id) column has 78 non-null values and we are interested in origenal tweets not replies.\n",
    "* The (retweeted_status_id) column has 181 non-null values and we are interested in origenal tweets not Retweets.\n",
    "* The (source) column is in html format we can extract the source of the tweet in form categoriesto compare sources.\n",
    "* The (rating_numerator) column should of type float, also it has values below 10 and this isn't valid.\n",
    "* The (rating_denominator) column has values not equal to 10 ratings and this isn't valid.\n",
    "* The (name) column has (None) names and many invalid values starts with lower-case letter (e.g. a, an, the, such ... etc).\n",
    "\n",
    "### 2) Image Preditions DataFrame\n",
    "* The (tweet_id) column is of data-type (int64) instead of (str).\n",
    "* In (p1, p2, p3) there are values that start with a lower-case letter.\n",
    "* In (p1, p2, p3) there are underscores in categories of dogs instead of spaces.\n",
    "\n",
    "### 3) Twitter API DataFrame\n",
    "* The (id) column is of data-type (int64) instead of (str)."
   ]
  },
  {
   "cell_type": "markdown",
   "id": "published-reynolds",
   "metadata": {},
   "source": [
    "## Tidiness Issues :\n",
    "* There are Three DataFrames that need to be combined into one DataFrame.\n",
    "\n",
    "### 1) Enhanced Twitter Archive DataFrame\n",
    "* There are 4-columns that represent the \"Dog Stage\" (i.e. doggo, floofer, pupper, and puppo)\n",
    "\n",
    "### 2) Image Predictions DataFrame\n",
    "* img_num column isn't necessary and provide no additional information related to prediction.\n",
    "\n",
    "### 3) Twitter API DataFrame\n",
    "* We only need 3-columns (i.e. id, retweet_count, favorite_count).\n",
    "* We need to change The name of (id) column into (tweet_id) like other DataFrames"
   ]
  },
  {
   "cell_type": "markdown",
   "id": "substantial-burning",
   "metadata": {},
   "source": [
    "# Cleaning"
   ]
  },
  {
   "cell_type": "markdown",
   "id": "vietnamese-costume",
   "metadata": {},
   "source": [
    "## Copyibng DataFrames to perform Cleaning"
   ]
  },
  {
   "cell_type": "code",
   "execution_count": 33,
   "id": "cordless-sheet",
   "metadata": {},
   "outputs": [],
   "source": [
    "clean_df_archive = df_archive.copy()\n",
    "clean_df_predictions = df_predictions.copy()\n",
    "clean_df_api = df_api.copy()"
   ]
  },
  {
   "cell_type": "markdown",
   "id": "linear-extra",
   "metadata": {},
   "source": [
    "___\n",
    "## Quality Issues\n",
    "\n",
    "## Define \n",
    "The tweet_id column is of data-type (int64) instead of (str), so we need to convert it into str data-type."
   ]
  },
  {
   "cell_type": "markdown",
   "id": "modified-garden",
   "metadata": {},
   "source": [
    "## Code"
   ]
  },
  {
   "cell_type": "code",
   "execution_count": 34,
   "id": "canadian-chrome",
   "metadata": {},
   "outputs": [],
   "source": [
    "clean_df_archive = clean_df_archive.astype({'tweet_id':'str'})"
   ]
  },
  {
   "cell_type": "markdown",
   "id": "variable-string",
   "metadata": {},
   "source": [
    "## Test"
   ]
  },
  {
   "cell_type": "code",
   "execution_count": 35,
   "id": "digital-stage",
   "metadata": {},
   "outputs": [
    {
     "data": {
      "text/plain": [
       "dtype('O')"
      ]
     },
     "execution_count": 35,
     "metadata": {},
     "output_type": "execute_result"
    }
   ],
   "source": [
    "clean_df_archive.tweet_id.dtype"
   ]
  },
  {
   "cell_type": "markdown",
   "id": "decreased-conditioning",
   "metadata": {},
   "source": [
    "_____\n",
    "## Define\n",
    "Convert the (timestamp) column into datetime data-type."
   ]
  },
  {
   "cell_type": "markdown",
   "id": "valued-advocate",
   "metadata": {},
   "source": [
    "## Code"
   ]
  },
  {
   "cell_type": "code",
   "execution_count": 36,
   "id": "diagnostic-understanding",
   "metadata": {},
   "outputs": [],
   "source": [
    "clean_df_archive.timestamp = pd.to_datetime(clean_df_archive.timestamp)"
   ]
  },
  {
   "cell_type": "markdown",
   "id": "black-florence",
   "metadata": {},
   "source": [
    "## Test"
   ]
  },
  {
   "cell_type": "code",
   "execution_count": 37,
   "id": "dominican-breakdown",
   "metadata": {},
   "outputs": [
    {
     "data": {
      "text/plain": [
       "datetime64[ns, UTC]"
      ]
     },
     "execution_count": 37,
     "metadata": {},
     "output_type": "execute_result"
    }
   ],
   "source": [
    "clean_df_archive.timestamp.dtype"
   ]
  },
  {
   "cell_type": "markdown",
   "id": "adapted-airplane",
   "metadata": {},
   "source": [
    "____\n",
    "## Define\n",
    "Removing the reply-tweets based on non-null values in (in_reply_to_status_id) column."
   ]
  },
  {
   "cell_type": "markdown",
   "id": "optional-notion",
   "metadata": {},
   "source": [
    "## Code"
   ]
  },
  {
   "cell_type": "code",
   "execution_count": 38,
   "id": "apart-artist",
   "metadata": {},
   "outputs": [],
   "source": [
    "clean_df_archive = clean_df_archive[clean_df_archive.in_reply_to_status_id.isnull()]"
   ]
  },
  {
   "cell_type": "markdown",
   "id": "measured-asthma",
   "metadata": {},
   "source": [
    "## Test"
   ]
  },
  {
   "cell_type": "code",
   "execution_count": 39,
   "id": "stainless-reggae",
   "metadata": {},
   "outputs": [
    {
     "name": "stdout",
     "output_type": "stream",
     "text": [
      "<class 'pandas.core.frame.DataFrame'>\n",
      "Int64Index: 2278 entries, 0 to 2355\n",
      "Data columns (total 17 columns):\n",
      " #   Column                      Non-Null Count  Dtype              \n",
      "---  ------                      --------------  -----              \n",
      " 0   tweet_id                    2278 non-null   object             \n",
      " 1   in_reply_to_status_id       0 non-null      float64            \n",
      " 2   in_reply_to_user_id         0 non-null      float64            \n",
      " 3   timestamp                   2278 non-null   datetime64[ns, UTC]\n",
      " 4   source                      2278 non-null   object             \n",
      " 5   text                        2278 non-null   object             \n",
      " 6   retweeted_status_id         181 non-null    float64            \n",
      " 7   retweeted_status_user_id    181 non-null    float64            \n",
      " 8   retweeted_status_timestamp  181 non-null    object             \n",
      " 9   expanded_urls               2274 non-null   object             \n",
      " 10  rating_numerator            2278 non-null   int64              \n",
      " 11  rating_denominator          2278 non-null   int64              \n",
      " 12  name                        2278 non-null   object             \n",
      " 13  doggo                       2278 non-null   object             \n",
      " 14  floofer                     2278 non-null   object             \n",
      " 15  pupper                      2278 non-null   object             \n",
      " 16  puppo                       2278 non-null   object             \n",
      "dtypes: datetime64[ns, UTC](1), float64(4), int64(2), object(10)\n",
      "memory usage: 320.3+ KB\n"
     ]
    }
   ],
   "source": [
    "clean_df_archive.info()"
   ]
  },
  {
   "cell_type": "markdown",
   "id": "theoretical-philosophy",
   "metadata": {},
   "source": [
    "___\n",
    "## Define\n",
    "Removing rows that represent Retweets based on (retweeted_status_id) column"
   ]
  },
  {
   "cell_type": "markdown",
   "id": "aquatic-shelf",
   "metadata": {},
   "source": [
    "## Code"
   ]
  },
  {
   "cell_type": "code",
   "execution_count": 40,
   "id": "graphic-hopkins",
   "metadata": {},
   "outputs": [],
   "source": [
    "clean_df_archive = clean_df_archive[clean_df_archive.retweeted_status_id.isnull()]"
   ]
  },
  {
   "cell_type": "markdown",
   "id": "permanent-recommendation",
   "metadata": {},
   "source": [
    "## Test"
   ]
  },
  {
   "cell_type": "code",
   "execution_count": 41,
   "id": "superior-celebrity",
   "metadata": {},
   "outputs": [
    {
     "name": "stdout",
     "output_type": "stream",
     "text": [
      "<class 'pandas.core.frame.DataFrame'>\n",
      "Int64Index: 2097 entries, 0 to 2355\n",
      "Data columns (total 17 columns):\n",
      " #   Column                      Non-Null Count  Dtype              \n",
      "---  ------                      --------------  -----              \n",
      " 0   tweet_id                    2097 non-null   object             \n",
      " 1   in_reply_to_status_id       0 non-null      float64            \n",
      " 2   in_reply_to_user_id         0 non-null      float64            \n",
      " 3   timestamp                   2097 non-null   datetime64[ns, UTC]\n",
      " 4   source                      2097 non-null   object             \n",
      " 5   text                        2097 non-null   object             \n",
      " 6   retweeted_status_id         0 non-null      float64            \n",
      " 7   retweeted_status_user_id    0 non-null      float64            \n",
      " 8   retweeted_status_timestamp  0 non-null      object             \n",
      " 9   expanded_urls               2094 non-null   object             \n",
      " 10  rating_numerator            2097 non-null   int64              \n",
      " 11  rating_denominator          2097 non-null   int64              \n",
      " 12  name                        2097 non-null   object             \n",
      " 13  doggo                       2097 non-null   object             \n",
      " 14  floofer                     2097 non-null   object             \n",
      " 15  pupper                      2097 non-null   object             \n",
      " 16  puppo                       2097 non-null   object             \n",
      "dtypes: datetime64[ns, UTC](1), float64(4), int64(2), object(10)\n",
      "memory usage: 294.9+ KB\n"
     ]
    }
   ],
   "source": [
    "clean_df_archive.info()"
   ]
  },
  {
   "cell_type": "markdown",
   "id": "monthly-award",
   "metadata": {},
   "source": [
    "___\n",
    "## Define\n",
    "The (source) column contains values in form of (html) format so we can extract only the source name and categorize them"
   ]
  },
  {
   "cell_type": "markdown",
   "id": "medical-agent",
   "metadata": {},
   "source": [
    "## Code"
   ]
  },
  {
   "cell_type": "code",
   "execution_count": 42,
   "id": "amino-kinase",
   "metadata": {},
   "outputs": [],
   "source": [
    "# First we need to define a function that extracts source name from the html format\n",
    "def extract_source(x):\n",
    "    'x is the html formated text that will be passed to the function to extract source name of'\n",
    "    i = x.find('>') + 1      # Find the first character after the first ('>') tag.\n",
    "    j = x[i:].find('<')      # Find the last character before the last ('<') tag.\n",
    "    return x[i:][:j]\n"
   ]
  },
  {
   "cell_type": "code",
   "execution_count": 43,
   "id": "certain-roads",
   "metadata": {},
   "outputs": [],
   "source": [
    "clean_df_archive.source = clean_df_archive.source.apply(lambda x: extract_source(x)).astype('category')"
   ]
  },
  {
   "cell_type": "markdown",
   "id": "deluxe-mystery",
   "metadata": {},
   "source": [
    "## Test"
   ]
  },
  {
   "cell_type": "code",
   "execution_count": 44,
   "id": "peaceful-concord",
   "metadata": {},
   "outputs": [
    {
     "data": {
      "text/plain": [
       "Twitter for iPhone     1964\n",
       "Vine - Make a Scene      91\n",
       "Twitter Web Client       31\n",
       "TweetDeck                11\n",
       "Name: source, dtype: int64"
      ]
     },
     "execution_count": 44,
     "metadata": {},
     "output_type": "execute_result"
    }
   ],
   "source": [
    "clean_df_archive.source.value_counts()"
   ]
  },
  {
   "cell_type": "markdown",
   "id": "silver-rabbit",
   "metadata": {},
   "source": [
    "___\n",
    "## Define\n",
    "Converting (rating_numerator) into (float64) data-type instead of (int64) and fixing values (<= 10) to be at least (= 11)"
   ]
  },
  {
   "cell_type": "markdown",
   "id": "hired-entertainment",
   "metadata": {},
   "source": [
    "## Code"
   ]
  },
  {
   "cell_type": "code",
   "execution_count": 45,
   "id": "suitable-passage",
   "metadata": {},
   "outputs": [],
   "source": [
    "# Define a funtion that is used to convert each un-valid value into a valid value\n",
    "def fix_numerator(x):\n",
    "    'x is the value of rating_numerator to be fixed'\n",
    "    if x <= 10:\n",
    "        x = 11     # if the value is <=10 then set it as =11\n",
    "    elif x > 15:\n",
    "        x = 15     # if the value is >20 then set it as =15\n",
    "    return x"
   ]
  },
  {
   "cell_type": "code",
   "execution_count": 46,
   "id": "immediate-liver",
   "metadata": {},
   "outputs": [],
   "source": [
    "clean_df_archive.rating_numerator = clean_df_archive.rating_numerator.apply(lambda x: fix_numerator(x)).astype('float64')"
   ]
  },
  {
   "cell_type": "markdown",
   "id": "central-lunch",
   "metadata": {},
   "source": [
    "## Test"
   ]
  },
  {
   "cell_type": "code",
   "execution_count": 47,
   "id": "greater-newark",
   "metadata": {},
   "outputs": [
    {
     "data": {
      "text/plain": [
       "dtype('float64')"
      ]
     },
     "execution_count": 47,
     "metadata": {},
     "output_type": "execute_result"
    }
   ],
   "source": [
    "clean_df_archive.rating_numerator.dtype"
   ]
  },
  {
   "cell_type": "code",
   "execution_count": 48,
   "id": "isolated-habitat",
   "metadata": {},
   "outputs": [
    {
     "data": {
      "text/plain": [
       "11.0    1268\n",
       "12.0     486\n",
       "13.0     287\n",
       "14.0      38\n",
       "15.0      18\n",
       "Name: rating_numerator, dtype: int64"
      ]
     },
     "execution_count": 48,
     "metadata": {},
     "output_type": "execute_result"
    }
   ],
   "source": [
    "clean_df_archive.rating_numerator.value_counts()"
   ]
  },
  {
   "cell_type": "markdown",
   "id": "advance-placement",
   "metadata": {},
   "source": [
    "___\n",
    "## Define\n",
    "Fixing rating_denominator values that are not equal to (10) to be (10)"
   ]
  },
  {
   "cell_type": "markdown",
   "id": "mathematical-sequence",
   "metadata": {},
   "source": [
    "## Coding"
   ]
  },
  {
   "cell_type": "code",
   "execution_count": 49,
   "id": "entertaining-garlic",
   "metadata": {},
   "outputs": [],
   "source": [
    "# Defining a function that is used to fx un-valid values\n",
    "def fix_denominator(x):\n",
    "    if x != 10:\n",
    "        x = 10\n",
    "    return x"
   ]
  },
  {
   "cell_type": "code",
   "execution_count": 50,
   "id": "exotic-protein",
   "metadata": {},
   "outputs": [],
   "source": [
    "clean_df_archive.rating_denominator = clean_df_archive.rating_denominator.apply(lambda x: fix_denominator(x))"
   ]
  },
  {
   "cell_type": "markdown",
   "id": "flying-aluminum",
   "metadata": {},
   "source": [
    "## Test"
   ]
  },
  {
   "cell_type": "code",
   "execution_count": 51,
   "id": "pleasant-legislature",
   "metadata": {},
   "outputs": [
    {
     "data": {
      "text/plain": [
       "10    2097\n",
       "Name: rating_denominator, dtype: int64"
      ]
     },
     "execution_count": 51,
     "metadata": {},
     "output_type": "execute_result"
    }
   ],
   "source": [
    "clean_df_archive.rating_denominator.value_counts()"
   ]
  },
  {
   "cell_type": "markdown",
   "id": "confirmed-greece",
   "metadata": {},
   "source": [
    "___\n",
    "## Define\n",
    "There are many values of dogs names which are invalid so we will put them as NaN."
   ]
  },
  {
   "cell_type": "markdown",
   "id": "compact-redhead",
   "metadata": {},
   "source": [
    "## code"
   ]
  },
  {
   "cell_type": "code",
   "execution_count": 52,
   "id": "psychological-assistant",
   "metadata": {},
   "outputs": [
    {
     "data": {
      "text/plain": [
       "array(['such', 'a', 'quite', 'not', 'one', 'incredibly', 'BeBe', 'very',\n",
       "       'DonDon', 'my', 'his', 'an', 'actually', 'just', 'getting', 'mad',\n",
       "       'this', 'unacceptable', 'all', 'old', 'infuriating', 'CeCe', 'the',\n",
       "       'by', 'officially', 'life', 'light', 'space', 'JD', 'DayZ'],\n",
       "      dtype=object)"
      ]
     },
     "execution_count": 52,
     "metadata": {},
     "output_type": "execute_result"
    }
   ],
   "source": [
    "clean_df_archive[~clean_df_archive.name.str.istitle()].name.unique()"
   ]
  },
  {
   "cell_type": "code",
   "execution_count": 53,
   "id": "meaningful-passing",
   "metadata": {},
   "outputs": [],
   "source": [
    "clean_df_archive.name.replace(['such', 'a', 'quite', 'not', 'one', 'incredibly', 'BeBe', 'very',\n",
    "                               'my', 'his', 'an', 'actually', 'just', 'getting', 'mad','this', \n",
    "                               'unacceptable', 'all', 'old', 'infuriating', 'the','by', 'officially',\n",
    "                               'life', 'light', 'space','DayZ','O', 'None'], value=np.nan, inplace=True)"
   ]
  },
  {
   "cell_type": "markdown",
   "id": "selective-closer",
   "metadata": {},
   "source": [
    "## Test "
   ]
  },
  {
   "cell_type": "code",
   "execution_count": 54,
   "id": "verified-rubber",
   "metadata": {},
   "outputs": [
    {
     "data": {
      "text/plain": [
       "710"
      ]
     },
     "execution_count": 54,
     "metadata": {},
     "output_type": "execute_result"
    }
   ],
   "source": [
    "clean_df_archive.name.isnull().sum()"
   ]
  },
  {
   "cell_type": "code",
   "execution_count": 55,
   "id": "encouraging-biology",
   "metadata": {},
   "outputs": [
    {
     "data": {
      "text/plain": [
       "Charlie    11\n",
       "Lucy       11\n",
       "Oliver     10\n",
       "Cooper     10\n",
       "Penny       9\n",
       "           ..\n",
       "Tassy       1\n",
       "Hector      1\n",
       "Stuart      1\n",
       "Major       1\n",
       "Jim         1\n",
       "Name: name, Length: 926, dtype: int64"
      ]
     },
     "execution_count": 55,
     "metadata": {},
     "output_type": "execute_result"
    }
   ],
   "source": [
    "clean_df_archive.name.value_counts()"
   ]
  },
  {
   "cell_type": "markdown",
   "id": "illegal-database",
   "metadata": {},
   "source": [
    "___\n",
    "## Define\n",
    "In the image predictions DataFrame the tweet_id column is of (int64) data-type and should be converted to (str) "
   ]
  },
  {
   "cell_type": "markdown",
   "id": "impressed-bosnia",
   "metadata": {},
   "source": [
    "## Code"
   ]
  },
  {
   "cell_type": "code",
   "execution_count": 56,
   "id": "opposed-memory",
   "metadata": {},
   "outputs": [],
   "source": [
    "clean_df_predictions.tweet_id = clean_df_predictions.tweet_id.astype('str')"
   ]
  },
  {
   "cell_type": "markdown",
   "id": "younger-bridal",
   "metadata": {},
   "source": [
    "## Test"
   ]
  },
  {
   "cell_type": "code",
   "execution_count": 57,
   "id": "lonely-netherlands",
   "metadata": {},
   "outputs": [
    {
     "data": {
      "text/plain": [
       "dtype('O')"
      ]
     },
     "execution_count": 57,
     "metadata": {},
     "output_type": "execute_result"
    }
   ],
   "source": [
    "clean_df_predictions.tweet_id.dtype"
   ]
  },
  {
   "cell_type": "markdown",
   "id": "planned-polyester",
   "metadata": {},
   "source": [
    "___\n",
    "## Define\n",
    "In (p1, p2, p3) the first character in names should be Upper-case and underscores should be replaced with spaces"
   ]
  },
  {
   "cell_type": "markdown",
   "id": "green-librarian",
   "metadata": {},
   "source": [
    "## Code"
   ]
  },
  {
   "cell_type": "code",
   "execution_count": 58,
   "id": "higher-jones",
   "metadata": {},
   "outputs": [],
   "source": [
    "clean_df_predictions.p1 = clean_df_predictions.p1.str.title()\n",
    "clean_df_predictions.p2 = clean_df_predictions.p2.str.title()\n",
    "clean_df_predictions.p3 = clean_df_predictions.p3.str.title()"
   ]
  },
  {
   "cell_type": "code",
   "execution_count": 59,
   "id": "expected-sessions",
   "metadata": {},
   "outputs": [],
   "source": [
    "clean_df_predictions.p1 = clean_df_predictions.p1.str.replace('_', ' ')\n",
    "clean_df_predictions.p2 = clean_df_predictions.p2.str.replace('_', ' ')\n",
    "clean_df_predictions.p3 = clean_df_predictions.p3.str.replace('_', ' ')"
   ]
  },
  {
   "cell_type": "markdown",
   "id": "adverse-insertion",
   "metadata": {},
   "source": [
    "## Test"
   ]
  },
  {
   "cell_type": "code",
   "execution_count": 60,
   "id": "suspected-gibson",
   "metadata": {},
   "outputs": [
    {
     "data": {
      "text/html": [
       "<div>\n",
       "<style scoped>\n",
       "    .dataframe tbody tr th:only-of-type {\n",
       "        vertical-align: middle;\n",
       "    }\n",
       "\n",
       "    .dataframe tbody tr th {\n",
       "        vertical-align: top;\n",
       "    }\n",
       "\n",
       "    .dataframe thead th {\n",
       "        text-align: right;\n",
       "    }\n",
       "</style>\n",
       "<table border=\"1\" class=\"dataframe\">\n",
       "  <thead>\n",
       "    <tr style=\"text-align: right;\">\n",
       "      <th></th>\n",
       "      <th>p1</th>\n",
       "      <th>p2</th>\n",
       "      <th>p3</th>\n",
       "    </tr>\n",
       "  </thead>\n",
       "  <tbody>\n",
       "    <tr>\n",
       "      <th>0</th>\n",
       "      <td>Welsh Springer Spaniel</td>\n",
       "      <td>Collie</td>\n",
       "      <td>Shetland Sheepdog</td>\n",
       "    </tr>\n",
       "    <tr>\n",
       "      <th>1</th>\n",
       "      <td>Redbone</td>\n",
       "      <td>Miniature Pinscher</td>\n",
       "      <td>Rhodesian Ridgeback</td>\n",
       "    </tr>\n",
       "    <tr>\n",
       "      <th>2</th>\n",
       "      <td>German Shepherd</td>\n",
       "      <td>Malinois</td>\n",
       "      <td>Bloodhound</td>\n",
       "    </tr>\n",
       "    <tr>\n",
       "      <th>3</th>\n",
       "      <td>Rhodesian Ridgeback</td>\n",
       "      <td>Redbone</td>\n",
       "      <td>Miniature Pinscher</td>\n",
       "    </tr>\n",
       "    <tr>\n",
       "      <th>4</th>\n",
       "      <td>Miniature Pinscher</td>\n",
       "      <td>Rottweiler</td>\n",
       "      <td>Doberman</td>\n",
       "    </tr>\n",
       "  </tbody>\n",
       "</table>\n",
       "</div>"
      ],
      "text/plain": [
       "                       p1                  p2                   p3\n",
       "0  Welsh Springer Spaniel              Collie    Shetland Sheepdog\n",
       "1                 Redbone  Miniature Pinscher  Rhodesian Ridgeback\n",
       "2         German Shepherd            Malinois           Bloodhound\n",
       "3     Rhodesian Ridgeback             Redbone   Miniature Pinscher\n",
       "4      Miniature Pinscher          Rottweiler             Doberman"
      ]
     },
     "execution_count": 60,
     "metadata": {},
     "output_type": "execute_result"
    }
   ],
   "source": [
    "clean_df_predictions[['p1', 'p2', 'p3']].head()"
   ]
  },
  {
   "cell_type": "markdown",
   "id": "hundred-miracle",
   "metadata": {},
   "source": [
    "___\n",
    "## Define\n",
    "In the Twitter API DataFrame the id column is of (int64) data-type and should be converted to (str) "
   ]
  },
  {
   "cell_type": "markdown",
   "id": "seasonal-chassis",
   "metadata": {},
   "source": [
    "## Code"
   ]
  },
  {
   "cell_type": "code",
   "execution_count": 61,
   "id": "premium-remark",
   "metadata": {},
   "outputs": [],
   "source": [
    "clean_df_api.id = clean_df_api.id.astype('str')"
   ]
  },
  {
   "cell_type": "markdown",
   "id": "persistent-cameroon",
   "metadata": {},
   "source": [
    "## Test"
   ]
  },
  {
   "cell_type": "code",
   "execution_count": 62,
   "id": "ordered-belly",
   "metadata": {},
   "outputs": [
    {
     "data": {
      "text/plain": [
       "dtype('O')"
      ]
     },
     "execution_count": 62,
     "metadata": {},
     "output_type": "execute_result"
    }
   ],
   "source": [
    "clean_df_api.id.dtype"
   ]
  },
  {
   "cell_type": "markdown",
   "id": "stretch-crack",
   "metadata": {},
   "source": [
    "___\n",
    "## Tidiness Issues\n",
    "\n",
    "## Define\n",
    "There are 4-columns that represent the \"Dog Stage\" (i.e. doggo, floofer, pupper, and puppo) we can represent all in one column\n",
    "and remove these four un-necessary columns."
   ]
  },
  {
   "cell_type": "markdown",
   "id": "narrative-monthly",
   "metadata": {},
   "source": [
    "## Code"
   ]
  },
  {
   "cell_type": "code",
   "execution_count": 63,
   "id": "japanese-centre",
   "metadata": {},
   "outputs": [],
   "source": [
    "clean_df_archive['dog_stage'] = clean_df_archive['text'].str.extract('(doggo|floofer|pupper|puppo)')"
   ]
  },
  {
   "cell_type": "code",
   "execution_count": 64,
   "id": "explicit-wings",
   "metadata": {},
   "outputs": [],
   "source": [
    "clean_df_archive.drop(['doggo', 'floofer', 'pupper', 'puppo'], axis=1, inplace=True)"
   ]
  },
  {
   "cell_type": "markdown",
   "id": "artificial-trainer",
   "metadata": {},
   "source": [
    "## Test"
   ]
  },
  {
   "cell_type": "code",
   "execution_count": 65,
   "id": "animated-adelaide",
   "metadata": {},
   "outputs": [
    {
     "name": "stdout",
     "output_type": "stream",
     "text": [
      "<class 'pandas.core.frame.DataFrame'>\n",
      "Int64Index: 2097 entries, 0 to 2355\n",
      "Data columns (total 14 columns):\n",
      " #   Column                      Non-Null Count  Dtype              \n",
      "---  ------                      --------------  -----              \n",
      " 0   tweet_id                    2097 non-null   object             \n",
      " 1   in_reply_to_status_id       0 non-null      float64            \n",
      " 2   in_reply_to_user_id         0 non-null      float64            \n",
      " 3   timestamp                   2097 non-null   datetime64[ns, UTC]\n",
      " 4   source                      2097 non-null   category           \n",
      " 5   text                        2097 non-null   object             \n",
      " 6   retweeted_status_id         0 non-null      float64            \n",
      " 7   retweeted_status_user_id    0 non-null      float64            \n",
      " 8   retweeted_status_timestamp  0 non-null      object             \n",
      " 9   expanded_urls               2094 non-null   object             \n",
      " 10  rating_numerator            2097 non-null   float64            \n",
      " 11  rating_denominator          2097 non-null   int64              \n",
      " 12  name                        1387 non-null   object             \n",
      " 13  dog_stage                   353 non-null    object             \n",
      "dtypes: category(1), datetime64[ns, UTC](1), float64(5), int64(1), object(6)\n",
      "memory usage: 231.6+ KB\n"
     ]
    }
   ],
   "source": [
    "clean_df_archive.info()"
   ]
  },
  {
   "cell_type": "markdown",
   "id": "beautiful-cursor",
   "metadata": {},
   "source": [
    "___\n",
    "## Define\n",
    "There are Five null columns that are not necessary so we will drop them"
   ]
  },
  {
   "cell_type": "markdown",
   "id": "superb-newcastle",
   "metadata": {},
   "source": [
    "## Code"
   ]
  },
  {
   "cell_type": "code",
   "execution_count": 66,
   "id": "gothic-combine",
   "metadata": {},
   "outputs": [],
   "source": [
    "# Dropping un-wanted columns:\n",
    "clean_df_archive.drop(['in_reply_to_status_id', 'in_reply_to_user_id', 'retweeted_status_id', \n",
    "                       'retweeted_status_user_id', 'retweeted_status_timestamp'], axis=1 ,inplace=True)"
   ]
  },
  {
   "cell_type": "markdown",
   "id": "weighted-supervision",
   "metadata": {},
   "source": [
    "## Test"
   ]
  },
  {
   "cell_type": "code",
   "execution_count": 67,
   "id": "included-japan",
   "metadata": {},
   "outputs": [
    {
     "name": "stdout",
     "output_type": "stream",
     "text": [
      "<class 'pandas.core.frame.DataFrame'>\n",
      "Int64Index: 2097 entries, 0 to 2355\n",
      "Data columns (total 9 columns):\n",
      " #   Column              Non-Null Count  Dtype              \n",
      "---  ------              --------------  -----              \n",
      " 0   tweet_id            2097 non-null   object             \n",
      " 1   timestamp           2097 non-null   datetime64[ns, UTC]\n",
      " 2   source              2097 non-null   category           \n",
      " 3   text                2097 non-null   object             \n",
      " 4   expanded_urls       2094 non-null   object             \n",
      " 5   rating_numerator    2097 non-null   float64            \n",
      " 6   rating_denominator  2097 non-null   int64              \n",
      " 7   name                1387 non-null   object             \n",
      " 8   dog_stage           353 non-null    object             \n",
      "dtypes: category(1), datetime64[ns, UTC](1), float64(1), int64(1), object(5)\n",
      "memory usage: 149.7+ KB\n"
     ]
    }
   ],
   "source": [
    "clean_df_archive.info()"
   ]
  },
  {
   "cell_type": "markdown",
   "id": "executive-sunset",
   "metadata": {},
   "source": [
    "___\n",
    "## Define\n",
    "img_num column isn't necessary and provide no additional information related to prediction."
   ]
  },
  {
   "cell_type": "markdown",
   "id": "hispanic-folder",
   "metadata": {},
   "source": [
    "## Code"
   ]
  },
  {
   "cell_type": "code",
   "execution_count": 68,
   "id": "fuzzy-complement",
   "metadata": {},
   "outputs": [],
   "source": [
    "clean_df_predictions.drop('img_num', axis=1, inplace=True)"
   ]
  },
  {
   "cell_type": "markdown",
   "id": "stainless-lebanon",
   "metadata": {},
   "source": [
    "## Test"
   ]
  },
  {
   "cell_type": "code",
   "execution_count": 69,
   "id": "arbitrary-inspiration",
   "metadata": {},
   "outputs": [
    {
     "name": "stdout",
     "output_type": "stream",
     "text": [
      "<class 'pandas.core.frame.DataFrame'>\n",
      "RangeIndex: 2075 entries, 0 to 2074\n",
      "Data columns (total 11 columns):\n",
      " #   Column    Non-Null Count  Dtype  \n",
      "---  ------    --------------  -----  \n",
      " 0   tweet_id  2075 non-null   object \n",
      " 1   jpg_url   2075 non-null   object \n",
      " 2   p1        2075 non-null   object \n",
      " 3   p1_conf   2075 non-null   float64\n",
      " 4   p1_dog    2075 non-null   bool   \n",
      " 5   p2        2075 non-null   object \n",
      " 6   p2_conf   2075 non-null   float64\n",
      " 7   p2_dog    2075 non-null   bool   \n",
      " 8   p3        2075 non-null   object \n",
      " 9   p3_conf   2075 non-null   float64\n",
      " 10  p3_dog    2075 non-null   bool   \n",
      "dtypes: bool(3), float64(3), object(5)\n",
      "memory usage: 135.9+ KB\n"
     ]
    }
   ],
   "source": [
    "clean_df_predictions.info()"
   ]
  },
  {
   "cell_type": "markdown",
   "id": "guilty-soldier",
   "metadata": {},
   "source": [
    "___\n",
    "## Define\n",
    "We only need 3-columns of Twitter API DataFrame (i.e. id, retweet_count, favorite_count).\n",
    "We need to change The name of (id) column into (tweet_id) like other DataFrames"
   ]
  },
  {
   "cell_type": "markdown",
   "id": "hairy-protection",
   "metadata": {},
   "source": [
    "## Code"
   ]
  },
  {
   "cell_type": "code",
   "execution_count": 70,
   "id": "agricultural-blackberry",
   "metadata": {},
   "outputs": [],
   "source": [
    "clean_df_api = clean_df_api[['id', 'retweet_count', 'favorite_count']]"
   ]
  },
  {
   "cell_type": "code",
   "execution_count": 71,
   "id": "stretch-stick",
   "metadata": {},
   "outputs": [],
   "source": [
    "clean_df_api.rename(columns={'id':'tweet_id'}, inplace=True)"
   ]
  },
  {
   "cell_type": "markdown",
   "id": "impressive-gates",
   "metadata": {},
   "source": [
    "## Test"
   ]
  },
  {
   "cell_type": "code",
   "execution_count": 72,
   "id": "centered-change",
   "metadata": {},
   "outputs": [
    {
     "name": "stdout",
     "output_type": "stream",
     "text": [
      "<class 'pandas.core.frame.DataFrame'>\n",
      "RangeIndex: 2354 entries, 0 to 2353\n",
      "Data columns (total 3 columns):\n",
      " #   Column          Non-Null Count  Dtype \n",
      "---  ------          --------------  ----- \n",
      " 0   tweet_id        2354 non-null   object\n",
      " 1   retweet_count   2354 non-null   int64 \n",
      " 2   favorite_count  2354 non-null   int64 \n",
      "dtypes: int64(2), object(1)\n",
      "memory usage: 55.3+ KB\n"
     ]
    }
   ],
   "source": [
    "clean_df_api.info()"
   ]
  },
  {
   "cell_type": "markdown",
   "id": "characteristic-think",
   "metadata": {},
   "source": [
    "___\n",
    "## Define\n",
    "There are three DataFrames that provide various information about rhe same thing so we need to merge all these three DataFramess into one DataFrame."
   ]
  },
  {
   "cell_type": "markdown",
   "id": "sharing-characteristic",
   "metadata": {},
   "source": [
    "## Code"
   ]
  },
  {
   "cell_type": "code",
   "execution_count": 73,
   "id": "purple-humidity",
   "metadata": {},
   "outputs": [],
   "source": [
    "clean_df_archive = pd.merge(clean_df_archive,clean_df_predictions, on='tweet_id', how='left')\n",
    "clean_df_archive = pd.merge(clean_df_archive,clean_df_api, on='tweet_id', how='left')"
   ]
  },
  {
   "cell_type": "markdown",
   "id": "superior-alarm",
   "metadata": {},
   "source": [
    "## Test"
   ]
  },
  {
   "cell_type": "code",
   "execution_count": 74,
   "id": "standing-context",
   "metadata": {},
   "outputs": [
    {
     "name": "stdout",
     "output_type": "stream",
     "text": [
      "<class 'pandas.core.frame.DataFrame'>\n",
      "Int64Index: 2097 entries, 0 to 2096\n",
      "Data columns (total 21 columns):\n",
      " #   Column              Non-Null Count  Dtype              \n",
      "---  ------              --------------  -----              \n",
      " 0   tweet_id            2097 non-null   object             \n",
      " 1   timestamp           2097 non-null   datetime64[ns, UTC]\n",
      " 2   source              2097 non-null   category           \n",
      " 3   text                2097 non-null   object             \n",
      " 4   expanded_urls       2094 non-null   object             \n",
      " 5   rating_numerator    2097 non-null   float64            \n",
      " 6   rating_denominator  2097 non-null   int64              \n",
      " 7   name                1387 non-null   object             \n",
      " 8   dog_stage           353 non-null    object             \n",
      " 9   jpg_url             1971 non-null   object             \n",
      " 10  p1                  1971 non-null   object             \n",
      " 11  p1_conf             1971 non-null   float64            \n",
      " 12  p1_dog              1971 non-null   object             \n",
      " 13  p2                  1971 non-null   object             \n",
      " 14  p2_conf             1971 non-null   float64            \n",
      " 15  p2_dog              1971 non-null   object             \n",
      " 16  p3                  1971 non-null   object             \n",
      " 17  p3_conf             1971 non-null   float64            \n",
      " 18  p3_dog              1971 non-null   object             \n",
      " 19  retweet_count       2097 non-null   int64              \n",
      " 20  favorite_count      2097 non-null   int64              \n",
      "dtypes: category(1), datetime64[ns, UTC](1), float64(4), int64(3), object(12)\n",
      "memory usage: 346.3+ KB\n"
     ]
    }
   ],
   "source": [
    "clean_df_archive.info()"
   ]
  },
  {
   "cell_type": "markdown",
   "id": "documented-internet",
   "metadata": {},
   "source": [
    "___\n",
    "# Storing\n",
    "We will store this cleaned Master DataFrame into a .csv file called (twitter_archive_master.csv)"
   ]
  },
  {
   "cell_type": "code",
   "execution_count": 75,
   "id": "higher-tomorrow",
   "metadata": {},
   "outputs": [],
   "source": [
    "clean_df_archive.to_csv('twitter_archive_master.csv', index=False)"
   ]
  },
  {
   "cell_type": "markdown",
   "id": "expired-toddler",
   "metadata": {},
   "source": [
    "___\n",
    "# Data Analysis and Visualization"
   ]
  },
  {
   "cell_type": "markdown",
   "id": "charged-forwarding",
   "metadata": {},
   "source": [
    "###### We Can Compare between Sources by which the @dog_rates tweeted these tweetsand then visualize this using pie-chart :"
   ]
  },
  {
   "cell_type": "code",
   "execution_count": 76,
   "id": "quality-sampling",
   "metadata": {},
   "outputs": [],
   "source": [
    "df_master = pd.read_csv('twitter_archive_master.csv')"
   ]
  },
  {
   "cell_type": "code",
   "execution_count": 77,
   "id": "friendly-makeup",
   "metadata": {},
   "outputs": [
    {
     "data": {
      "text/plain": [
       "Twitter for iPhone     1964\n",
       "Vine - Make a Scene      91\n",
       "Twitter Web Client       31\n",
       "TweetDeck                11\n",
       "Name: source, dtype: int64"
      ]
     },
     "execution_count": 77,
     "metadata": {},
     "output_type": "execute_result"
    }
   ],
   "source": [
    "df_source = df_master.source.value_counts()\n",
    "df_source"
   ]
  },
  {
   "cell_type": "code",
   "execution_count": 163,
   "id": "beginning-translation",
   "metadata": {},
   "outputs": [
    {
     "data": {
      "image/png": "[encoded data removed]",
      "text/plain": [
       "<Figure size 1440x720 with 1 Axes>"
      ]
     },
     "metadata": {},
     "output_type": "display_data"
    }
   ],
   "source": [
    "# Creating a pie-chart\n",
    "fig = plt.figure(figsize =(20, 10))\n",
    "plt.pie(df_source, labels=['Twitter for iPhone', 'Vine', 'Twitter Web Client', 'TweetDeck'],\n",
    "        autopct='%1.1f%%', shadow=True,\n",
    "        explode=(0, 0.2, 0.3, 0.4));\n",
    "plt.title('Sources Used To Tweet');"
   ]
  },
  {
   "cell_type": "markdown",
   "id": "romance-virus",
   "metadata": {},
   "source": [
    "* This Shows us that the (Twitter for iphone) is the most source used by @dog_rates"
   ]
  },
  {
   "cell_type": "markdown",
   "id": "quantitative-terrace",
   "metadata": {},
   "source": [
    "___\n",
    "###### We can Compare between different ratings and find the most common rating for most dogs:"
   ]
  },
  {
   "cell_type": "code",
   "execution_count": 96,
   "id": "atlantic-inflation",
   "metadata": {},
   "outputs": [
    {
     "data": {
      "text/plain": [
       "11.0    1268\n",
       "12.0     486\n",
       "13.0     287\n",
       "14.0      38\n",
       "15.0      18\n",
       "Name: rating_numerator, dtype: int64"
      ]
     },
     "execution_count": 96,
     "metadata": {},
     "output_type": "execute_result"
    }
   ],
   "source": [
    "df_rating = df_master.rating_numerator.value_counts()\n",
    "df_rating"
   ]
  },
  {
   "cell_type": "code",
   "execution_count": 159,
   "id": "animated-fence",
   "metadata": {},
   "outputs": [
    {
     "data": {
      "image/png": "[encoded data removed]",
      "text/plain": [
       "<Figure size 720x504 with 1 Axes>"
      ]
     },
     "metadata": {
      "needs_background": "light"
     },
     "output_type": "display_data"
    }
   ],
   "source": [
    "# Creating a pie-chart\n",
    "fig = plt.figure(figsize =(10, 7))\n",
    "plt.bar(df_rating.index, df_rating.values)\n",
    "plt.title('TOP DOG RATINGS')\n",
    "plt.xlabel('Ratings')\n",
    "plt.ylabel('Counts');"
   ]
  },
  {
   "cell_type": "markdown",
   "id": "modern-registration",
   "metadata": {},
   "source": [
    "* This shows that the (11) rating is the most common rating given to dogs"
   ]
  },
  {
   "cell_type": "markdown",
   "id": "finnish-april",
   "metadata": {},
   "source": [
    "___\n",
    "###### We Can Compare between the percentages of (dog_stages) :"
   ]
  },
  {
   "cell_type": "code",
   "execution_count": 113,
   "id": "ahead-space",
   "metadata": {},
   "outputs": [
    {
     "data": {
      "text/plain": [
       "pupper     240\n",
       "doggo       80\n",
       "puppo       29\n",
       "floofer      4\n",
       "Name: dog_stage, dtype: int64"
      ]
     },
     "execution_count": 113,
     "metadata": {},
     "output_type": "execute_result"
    }
   ],
   "source": [
    "df_dog_stage = df_master.dog_stage.value_counts()\n",
    "df_dog_stage"
   ]
  },
  {
   "cell_type": "code",
   "execution_count": 165,
   "id": "serial-breach",
   "metadata": {},
   "outputs": [
    {
     "data": {
      "image/png": "[encoded data removed]",
      "text/plain": [
       "<Figure size 1080x504 with 1 Axes>"
      ]
     },
     "metadata": {},
     "output_type": "display_data"
    }
   ],
   "source": [
    "# Creating the Pie-Chart using plt library:\n",
    "fig = plt.figure(figsize =(15, 7))\n",
    "plt.pie(df_dog_stage, labels=['Pupper', 'Doggo', 'Puppo', 'Floofer'],\n",
    "       autopct='%1.1f%%', shadow=True,\n",
    "       explode=(0,0.1,0.1,0.2));\n",
    "plt.title('Percentages of Dog Stages');"
   ]
  },
  {
   "cell_type": "markdown",
   "id": "brown-mexico",
   "metadata": {},
   "source": [
    "* This shows that the (Pupper) stage is the most common."
   ]
  },
  {
   "cell_type": "markdown",
   "id": "portuguese-legend",
   "metadata": {},
   "source": [
    "___\n",
    "###### We can also compare between the (Retweets) and (Likes) in the page :"
   ]
  },
  {
   "cell_type": "code",
   "execution_count": 147,
   "id": "honey-trial",
   "metadata": {},
   "outputs": [
    {
     "data": {
      "text/plain": [
       "Text(0, 0.5, 'Likes Counts')"
      ]
     },
     "execution_count": 147,
     "metadata": {},
     "output_type": "execute_result"
    },
    {
     "data": {
      "image/png": "[encoded data removed]",
      "text/plain": [
       "<Figure size 1080x504 with 1 Axes>"
      ]
     },
     "metadata": {
      "needs_background": "light"
     },
     "output_type": "display_data"
    }
   ],
   "source": [
    "# Creating Scatter plot :\n",
    "fig = plt.figure(figsize =(15, 7))\n",
    "plt.scatter(df_master.retweet_count, df_master.favorite_count);\n",
    "plt.title('Relationship between (Retweets) and (Likes)')\n",
    "plt.xlabel('Retweets Counts')\n",
    "plt.ylabel('Likes Counts');"
   ]
  },
  {
   "cell_type": "markdown",
   "id": "athletic-millennium",
   "metadata": {},
   "source": [
    "* This shows that there is a positive correlation between the (Retweets) and (Likes) for every tweet in the page; highly liked tweets are likely the most retweeted."
   ]
  },
  {
   "cell_type": "markdown",
   "id": "based-authority",
   "metadata": {},
   "source": [
    "___\n",
    "###### We can find the most commonly used names :"
   ]
  },
  {
   "cell_type": "code",
   "execution_count": 155,
   "id": "graduate-minimum",
   "metadata": {},
   "outputs": [],
   "source": [
    "df_names = df_master.name.value_counts()\n",
    "names = df_names.index[0:20]\n",
    "counts = df_names.values[0:20]"
   ]
  },
  {
   "cell_type": "code",
   "execution_count": 166,
   "id": "advanced-beverage",
   "metadata": {
    "scrolled": true
   },
   "outputs": [
    {
     "data": {
      "image/png": "[encoded data removed]",
      "text/plain": [
       "<Figure size 1080x504 with 1 Axes>"
      ]
     },
     "metadata": {
      "needs_background": "light"
     },
     "output_type": "display_data"
    }
   ],
   "source": [
    "# Creating a Bar-chart :\n",
    "fig = plt.figure(figsize =(15, 7))\n",
    "plt.bar(names,counts);\n",
    "plt.title('THE TOP-20 USED NAMES')\n",
    "plt.xlabel('Names')\n",
    "plt.ylabel('Name Counts');"
   ]
  },
  {
   "cell_type": "markdown",
   "id": "scheduled-wireless",
   "metadata": {},
   "source": [
    "* This shows that (Charlie & Lucy) are the most commonly used names as Dog-Names."
   ]
  },
  {
   "cell_type": "code",
   "execution_count": null,
   "id": "sonic-restaurant",
   "metadata": {},
   "outputs": [],
   "source": []
  }
 ],
 "metadata": {
  "kernelspec": {
   "display_name": "Python 3",
   "language": "python",
   "name": "python3"
  },
  "language_info": {
   "codemirror_mode": {
    "name": "ipython",
    "version": 3
   },
   "file_extension": ".py",
   "mimetype": "text/x-python",
   "name": "python",
   "nbconvert_exporter": "python",
   "pygments_lexer": "ipython3",
   "version": "3.8.8"
  }
 },
 "nbformat": 4,
 "nbformat_minor": 5
}
